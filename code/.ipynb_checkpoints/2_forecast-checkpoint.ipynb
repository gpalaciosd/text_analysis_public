{
 "cells": [
  {
   "cell_type": "markdown",
   "id": "7f744135-4a80-43fe-8c13-34a84845e83c",
   "metadata": {},
   "source": [
    "# Forecasting economic activity"
   ]
  },
  {
   "cell_type": "markdown",
   "id": "9b891130-d1a7-4af9-b1dc-bdd08e7263ff",
   "metadata": {},
   "source": [
    "## Combinining datasets, adding lags"
   ]
  },
  {
   "cell_type": "code",
   "execution_count": 1,
   "id": "5b624762-4a43-40ca-8817-182d205e2036",
   "metadata": {},
   "outputs": [
    {
     "name": "stderr",
     "output_type": "stream",
     "text": [
      "\n",
      "Attaching package: ‘zoo’\n",
      "\n",
      "\n",
      "The following objects are masked from ‘package:base’:\n",
      "\n",
      "    as.Date, as.Date.numeric\n",
      "\n",
      "\n",
      "── \u001b[1mAttaching packages\u001b[22m ─────────────────────────────────────── tidyverse 1.3.1 ──\n",
      "\n",
      "\u001b[32m✔\u001b[39m \u001b[34mggplot2\u001b[39m 3.3.6     \u001b[32m✔\u001b[39m \u001b[34mpurrr  \u001b[39m 0.3.4\n",
      "\u001b[32m✔\u001b[39m \u001b[34mtibble \u001b[39m 3.1.7     \u001b[32m✔\u001b[39m \u001b[34mdplyr  \u001b[39m 1.0.9\n",
      "\u001b[32m✔\u001b[39m \u001b[34mtidyr  \u001b[39m 1.2.0     \u001b[32m✔\u001b[39m \u001b[34mstringr\u001b[39m 1.4.0\n",
      "\u001b[32m✔\u001b[39m \u001b[34mreadr  \u001b[39m 2.1.2     \u001b[32m✔\u001b[39m \u001b[34mforcats\u001b[39m 0.5.1\n",
      "\n",
      "── \u001b[1mConflicts\u001b[22m ────────────────────────────────────────── tidyverse_conflicts() ──\n",
      "\u001b[31m✖\u001b[39m \u001b[34mdplyr\u001b[39m::\u001b[32mfilter()\u001b[39m masks \u001b[34mstats\u001b[39m::filter()\n",
      "\u001b[31m✖\u001b[39m \u001b[34mdplyr\u001b[39m::\u001b[32mlag()\u001b[39m    masks \u001b[34mstats\u001b[39m::lag()\n",
      "\n",
      "Loading required package: lattice\n",
      "\n",
      "\n",
      "Attaching package: ‘caret’\n",
      "\n",
      "\n",
      "The following object is masked from ‘package:purrr’:\n",
      "\n",
      "    lift\n",
      "\n",
      "\n",
      "\n",
      "Attaching package: ‘rlang’\n",
      "\n",
      "\n",
      "The following objects are masked from ‘package:purrr’:\n",
      "\n",
      "    %@%, as_function, flatten, flatten_chr, flatten_dbl, flatten_int,\n",
      "    flatten_lgl, flatten_raw, invoke, splice\n",
      "\n",
      "\n",
      "Loading required package: survival\n",
      "\n",
      "\n",
      "Attaching package: ‘survival’\n",
      "\n",
      "\n",
      "The following object is masked from ‘package:caret’:\n",
      "\n",
      "    cluster\n",
      "\n",
      "\n",
      "Loading required package: Formula\n",
      "\n",
      "\n",
      "Attaching package: ‘Hmisc’\n",
      "\n",
      "\n",
      "The following objects are masked from ‘package:dplyr’:\n",
      "\n",
      "    src, summarize\n",
      "\n",
      "\n",
      "The following objects are masked from ‘package:base’:\n",
      "\n",
      "    format.pval, units\n",
      "\n",
      "\n"
     ]
    }
   ],
   "source": [
    "# Load packages\n",
    "#install.packages(\"lattice\")\n",
    "#install.packages(\"caret\")\n",
    "#install.packages(\"Hmisc\")\n",
    "library(readxl)\n",
    "library(zoo)\n",
    "library(tidyverse)\n",
    "library(fastDummies)\n",
    "library(caret)\n",
    "library(rlang)\n",
    "library(Hmisc)"
   ]
  },
  {
   "cell_type": "code",
   "execution_count": 2,
   "id": "e1986c65-784f-4d08-aa50-93914a24f920",
   "metadata": {},
   "outputs": [
    {
     "data": {
      "text/html": [
       "<table class=\"dataframe\">\n",
       "<caption>A data.frame: 6 × 31</caption>\n",
       "<thead>\n",
       "\t<tr><th></th><th scope=col>month</th><th scope=col>gamma_1</th><th scope=col>gamma_2</th><th scope=col>gamma_3</th><th scope=col>gamma_4</th><th scope=col>gamma_5</th><th scope=col>gamma_6</th><th scope=col>gamma_7</th><th scope=col>gamma_8</th><th scope=col>count_1</th><th scope=col>⋯</th><th scope=col>news_5</th><th scope=col>news_6</th><th scope=col>news_7</th><th scope=col>news_8</th><th scope=col>pos_dum</th><th scope=col>neg_dum</th><th scope=col>index</th><th scope=col>var_index</th><th scope=col>var_pos</th><th scope=col>var_neg</th></tr>\n",
       "\t<tr><th></th><th scope=col>&lt;dbl&gt;</th><th scope=col>&lt;dbl&gt;</th><th scope=col>&lt;dbl&gt;</th><th scope=col>&lt;dbl&gt;</th><th scope=col>&lt;dbl&gt;</th><th scope=col>&lt;dbl&gt;</th><th scope=col>&lt;dbl&gt;</th><th scope=col>&lt;dbl&gt;</th><th scope=col>&lt;dbl&gt;</th><th scope=col>&lt;dbl&gt;</th><th scope=col>⋯</th><th scope=col>&lt;int&gt;</th><th scope=col>&lt;int&gt;</th><th scope=col>&lt;int&gt;</th><th scope=col>&lt;int&gt;</th><th scope=col>&lt;dbl&gt;</th><th scope=col>&lt;dbl&gt;</th><th scope=col>&lt;dbl&gt;</th><th scope=col>&lt;dbl&gt;</th><th scope=col>&lt;dbl&gt;</th><th scope=col>&lt;dbl&gt;</th></tr>\n",
       "</thead>\n",
       "<tbody>\n",
       "\t<tr><th scope=row>1</th><td>2012.833</td><td>0.05840190</td><td>0.3212144</td><td>0.1341846</td><td>0.0006955618</td><td>0.08852647</td><td>0.12119587</td><td>0.06646040</td><td>0.2093208</td><td>4933</td><td>⋯</td><td>69</td><td> 91</td><td>47</td><td>160</td><td>0.6312420</td><td>0.2983355</td><td>56.44913</td><td>        NA</td><td>          NA</td><td>          NA</td></tr>\n",
       "\t<tr><th scope=row>2</th><td>2012.917</td><td>0.06257839</td><td>0.3043835</td><td>0.1316908</td><td>0.0008046444</td><td>0.10657801</td><td>0.12409638</td><td>0.07945173</td><td>0.1904166</td><td>5568</td><td>⋯</td><td>88</td><td>107</td><td>59</td><td>154</td><td>0.6642066</td><td>0.2607626</td><td>57.58885</td><td> 1.1397139</td><td> 0.032964645</td><td>-0.037572860</td></tr>\n",
       "\t<tr><th scope=row>3</th><td>2013.000</td><td>0.06896527</td><td>0.3465094</td><td>0.1351690</td><td>0.0006823642</td><td>0.09057575</td><td>0.08579316</td><td>0.08160333</td><td>0.1907017</td><td>5717</td><td>⋯</td><td>66</td><td> 58</td><td>57</td><td>143</td><td>0.6630728</td><td>0.2654987</td><td>57.84830</td><td> 0.2594500</td><td>-0.001133866</td><td> 0.004736045</td></tr>\n",
       "\t<tr><th scope=row>4</th><td>2013.083</td><td>0.06287183</td><td>0.3665349</td><td>0.1593783</td><td>0.0006558756</td><td>0.09518105</td><td>0.08433459</td><td>0.04941335</td><td>0.1816300</td><td>4670</td><td>⋯</td><td>68</td><td> 53</td><td>26</td><td>131</td><td>0.6259205</td><td>0.2812960</td><td>57.38243</td><td>-0.4658647</td><td>-0.037152305</td><td> 0.015797371</td></tr>\n",
       "\t<tr><th scope=row>5</th><td>2013.167</td><td>0.07244608</td><td>0.3433993</td><td>0.1396045</td><td>0.0006720342</td><td>0.09523713</td><td>0.14539373</td><td>0.05562080</td><td>0.1476265</td><td>7253</td><td>⋯</td><td>77</td><td>119</td><td>36</td><td>100</td><td>0.6055626</td><td>0.3021492</td><td>56.12384</td><td>-1.2585885</td><td>-0.020357892</td><td> 0.020853155</td></tr>\n",
       "\t<tr><th scope=row>6</th><td>2013.250</td><td>0.06876135</td><td>0.3047955</td><td>0.1389688</td><td>0.0006749382</td><td>0.09800549</td><td>0.14669672</td><td>0.05030655</td><td>0.1917906</td><td>5964</td><td>⋯</td><td>65</td><td>111</td><td>33</td><td>151</td><td>0.6450331</td><td>0.2569536</td><td>58.05673</td><td> 1.9328913</td><td> 0.039470534</td><td>-0.045195536</td></tr>\n",
       "</tbody>\n",
       "</table>\n"
      ],
      "text/latex": [
       "A data.frame: 6 × 31\n",
       "\\begin{tabular}{r|lllllllllllllllllllll}\n",
       "  & month & gamma\\_1 & gamma\\_2 & gamma\\_3 & gamma\\_4 & gamma\\_5 & gamma\\_6 & gamma\\_7 & gamma\\_8 & count\\_1 & ⋯ & news\\_5 & news\\_6 & news\\_7 & news\\_8 & pos\\_dum & neg\\_dum & index & var\\_index & var\\_pos & var\\_neg\\\\\n",
       "  & <dbl> & <dbl> & <dbl> & <dbl> & <dbl> & <dbl> & <dbl> & <dbl> & <dbl> & <dbl> & ⋯ & <int> & <int> & <int> & <int> & <dbl> & <dbl> & <dbl> & <dbl> & <dbl> & <dbl>\\\\\n",
       "\\hline\n",
       "\t1 & 2012.833 & 0.05840190 & 0.3212144 & 0.1341846 & 0.0006955618 & 0.08852647 & 0.12119587 & 0.06646040 & 0.2093208 & 4933 & ⋯ & 69 &  91 & 47 & 160 & 0.6312420 & 0.2983355 & 56.44913 &         NA &           NA &           NA\\\\\n",
       "\t2 & 2012.917 & 0.06257839 & 0.3043835 & 0.1316908 & 0.0008046444 & 0.10657801 & 0.12409638 & 0.07945173 & 0.1904166 & 5568 & ⋯ & 88 & 107 & 59 & 154 & 0.6642066 & 0.2607626 & 57.58885 &  1.1397139 &  0.032964645 & -0.037572860\\\\\n",
       "\t3 & 2013.000 & 0.06896527 & 0.3465094 & 0.1351690 & 0.0006823642 & 0.09057575 & 0.08579316 & 0.08160333 & 0.1907017 & 5717 & ⋯ & 66 &  58 & 57 & 143 & 0.6630728 & 0.2654987 & 57.84830 &  0.2594500 & -0.001133866 &  0.004736045\\\\\n",
       "\t4 & 2013.083 & 0.06287183 & 0.3665349 & 0.1593783 & 0.0006558756 & 0.09518105 & 0.08433459 & 0.04941335 & 0.1816300 & 4670 & ⋯ & 68 &  53 & 26 & 131 & 0.6259205 & 0.2812960 & 57.38243 & -0.4658647 & -0.037152305 &  0.015797371\\\\\n",
       "\t5 & 2013.167 & 0.07244608 & 0.3433993 & 0.1396045 & 0.0006720342 & 0.09523713 & 0.14539373 & 0.05562080 & 0.1476265 & 7253 & ⋯ & 77 & 119 & 36 & 100 & 0.6055626 & 0.3021492 & 56.12384 & -1.2585885 & -0.020357892 &  0.020853155\\\\\n",
       "\t6 & 2013.250 & 0.06876135 & 0.3047955 & 0.1389688 & 0.0006749382 & 0.09800549 & 0.14669672 & 0.05030655 & 0.1917906 & 5964 & ⋯ & 65 & 111 & 33 & 151 & 0.6450331 & 0.2569536 & 58.05673 &  1.9328913 &  0.039470534 & -0.045195536\\\\\n",
       "\\end{tabular}\n"
      ],
      "text/markdown": [
       "\n",
       "A data.frame: 6 × 31\n",
       "\n",
       "| <!--/--> | month &lt;dbl&gt; | gamma_1 &lt;dbl&gt; | gamma_2 &lt;dbl&gt; | gamma_3 &lt;dbl&gt; | gamma_4 &lt;dbl&gt; | gamma_5 &lt;dbl&gt; | gamma_6 &lt;dbl&gt; | gamma_7 &lt;dbl&gt; | gamma_8 &lt;dbl&gt; | count_1 &lt;dbl&gt; | ⋯ ⋯ | news_5 &lt;int&gt; | news_6 &lt;int&gt; | news_7 &lt;int&gt; | news_8 &lt;int&gt; | pos_dum &lt;dbl&gt; | neg_dum &lt;dbl&gt; | index &lt;dbl&gt; | var_index &lt;dbl&gt; | var_pos &lt;dbl&gt; | var_neg &lt;dbl&gt; |\n",
       "|---|---|---|---|---|---|---|---|---|---|---|---|---|---|---|---|---|---|---|---|---|---|\n",
       "| 1 | 2012.833 | 0.05840190 | 0.3212144 | 0.1341846 | 0.0006955618 | 0.08852647 | 0.12119587 | 0.06646040 | 0.2093208 | 4933 | ⋯ | 69 |  91 | 47 | 160 | 0.6312420 | 0.2983355 | 56.44913 |         NA |           NA |           NA |\n",
       "| 2 | 2012.917 | 0.06257839 | 0.3043835 | 0.1316908 | 0.0008046444 | 0.10657801 | 0.12409638 | 0.07945173 | 0.1904166 | 5568 | ⋯ | 88 | 107 | 59 | 154 | 0.6642066 | 0.2607626 | 57.58885 |  1.1397139 |  0.032964645 | -0.037572860 |\n",
       "| 3 | 2013.000 | 0.06896527 | 0.3465094 | 0.1351690 | 0.0006823642 | 0.09057575 | 0.08579316 | 0.08160333 | 0.1907017 | 5717 | ⋯ | 66 |  58 | 57 | 143 | 0.6630728 | 0.2654987 | 57.84830 |  0.2594500 | -0.001133866 |  0.004736045 |\n",
       "| 4 | 2013.083 | 0.06287183 | 0.3665349 | 0.1593783 | 0.0006558756 | 0.09518105 | 0.08433459 | 0.04941335 | 0.1816300 | 4670 | ⋯ | 68 |  53 | 26 | 131 | 0.6259205 | 0.2812960 | 57.38243 | -0.4658647 | -0.037152305 |  0.015797371 |\n",
       "| 5 | 2013.167 | 0.07244608 | 0.3433993 | 0.1396045 | 0.0006720342 | 0.09523713 | 0.14539373 | 0.05562080 | 0.1476265 | 7253 | ⋯ | 77 | 119 | 36 | 100 | 0.6055626 | 0.3021492 | 56.12384 | -1.2585885 | -0.020357892 |  0.020853155 |\n",
       "| 6 | 2013.250 | 0.06876135 | 0.3047955 | 0.1389688 | 0.0006749382 | 0.09800549 | 0.14669672 | 0.05030655 | 0.1917906 | 5964 | ⋯ | 65 | 111 | 33 | 151 | 0.6450331 | 0.2569536 | 58.05673 |  1.9328913 |  0.039470534 | -0.045195536 |\n",
       "\n"
      ],
      "text/plain": [
       "  month    gamma_1    gamma_2   gamma_3   gamma_4      gamma_5    gamma_6   \n",
       "1 2012.833 0.05840190 0.3212144 0.1341846 0.0006955618 0.08852647 0.12119587\n",
       "2 2012.917 0.06257839 0.3043835 0.1316908 0.0008046444 0.10657801 0.12409638\n",
       "3 2013.000 0.06896527 0.3465094 0.1351690 0.0006823642 0.09057575 0.08579316\n",
       "4 2013.083 0.06287183 0.3665349 0.1593783 0.0006558756 0.09518105 0.08433459\n",
       "5 2013.167 0.07244608 0.3433993 0.1396045 0.0006720342 0.09523713 0.14539373\n",
       "6 2013.250 0.06876135 0.3047955 0.1389688 0.0006749382 0.09800549 0.14669672\n",
       "  gamma_7    gamma_8   count_1 ⋯ news_5 news_6 news_7 news_8 pos_dum  \n",
       "1 0.06646040 0.2093208 4933    ⋯ 69      91    47     160    0.6312420\n",
       "2 0.07945173 0.1904166 5568    ⋯ 88     107    59     154    0.6642066\n",
       "3 0.08160333 0.1907017 5717    ⋯ 66      58    57     143    0.6630728\n",
       "4 0.04941335 0.1816300 4670    ⋯ 68      53    26     131    0.6259205\n",
       "5 0.05562080 0.1476265 7253    ⋯ 77     119    36     100    0.6055626\n",
       "6 0.05030655 0.1917906 5964    ⋯ 65     111    33     151    0.6450331\n",
       "  neg_dum   index    var_index  var_pos      var_neg     \n",
       "1 0.2983355 56.44913         NA           NA           NA\n",
       "2 0.2607626 57.58885  1.1397139  0.032964645 -0.037572860\n",
       "3 0.2654987 57.84830  0.2594500 -0.001133866  0.004736045\n",
       "4 0.2812960 57.38243 -0.4658647 -0.037152305  0.015797371\n",
       "5 0.3021492 56.12384 -1.2585885 -0.020357892  0.020853155\n",
       "6 0.2569536 58.05673  1.9328913  0.039470534 -0.045195536"
      ]
     },
     "metadata": {},
     "output_type": "display_data"
    }
   ],
   "source": [
    "# Load news data\n",
    "load('../../text_analysis/data/news_variables.Rdata')\n",
    "head(news_variables)"
   ]
  },
  {
   "cell_type": "code",
   "execution_count": 3,
   "id": "a757fad5-f1aa-450a-9dda-1cbc2bcd34c6",
   "metadata": {},
   "outputs": [],
   "source": [
    "# Load data on GDP growth and expectations\n",
    "expectations <- read_excel(\"../../text_analysis/data/expectations.xlsx\")\n",
    "gdp <- read_excel(\"../../text_analysis/data/gdp.xlsx\")\n",
    "# Load more real-time indicators: \n",
    "words <- read_excel(\"../../text_analysis/data/google_trends_words.xlsx\")\n",
    "elec <- read_excel(\"../../text_analysis/data/electricity.xlsx\")"
   ]
  },
  {
   "cell_type": "code",
   "execution_count": 4,
   "id": "38806c88-d479-4a56-9f74-eef5f087cbd8",
   "metadata": {},
   "outputs": [
    {
     "data": {
      "text/html": [
       "<table class=\"dataframe\">\n",
       "<caption>A tibble: 6 × 85</caption>\n",
       "<thead>\n",
       "\t<tr><th scope=col>month</th><th scope=col>demand3m</th><th scope=col>econ3m</th><th scope=col>sector3m</th><th scope=col>emp3m</th><th scope=col>firm3m</th><th scope=col>econ1yr</th><th scope=col>sector1yr</th><th scope=col>production</th><th scope=col>sales</th><th scope=col>⋯</th><th scope=col>news_5</th><th scope=col>news_6</th><th scope=col>news_7</th><th scope=col>news_8</th><th scope=col>pos_dum</th><th scope=col>neg_dum</th><th scope=col>index</th><th scope=col>var_index</th><th scope=col>var_pos</th><th scope=col>var_neg</th></tr>\n",
       "\t<tr><th scope=col>&lt;dbl&gt;</th><th scope=col>&lt;dbl&gt;</th><th scope=col>&lt;dbl&gt;</th><th scope=col>&lt;dbl&gt;</th><th scope=col>&lt;dbl&gt;</th><th scope=col>&lt;dbl&gt;</th><th scope=col>&lt;dbl&gt;</th><th scope=col>&lt;dbl&gt;</th><th scope=col>&lt;dbl&gt;</th><th scope=col>&lt;dbl&gt;</th><th scope=col>⋯</th><th scope=col>&lt;int&gt;</th><th scope=col>&lt;int&gt;</th><th scope=col>&lt;int&gt;</th><th scope=col>&lt;int&gt;</th><th scope=col>&lt;dbl&gt;</th><th scope=col>&lt;dbl&gt;</th><th scope=col>&lt;dbl&gt;</th><th scope=col>&lt;dbl&gt;</th><th scope=col>&lt;dbl&gt;</th><th scope=col>&lt;dbl&gt;</th></tr>\n",
       "</thead>\n",
       "<tbody>\n",
       "\t<tr><td>2011.833</td><td>59.53177</td><td>57.52508</td><td>57.21477</td><td>53.17726</td><td>58.86288</td><td>60.50000</td><td>63.16667</td><td>55.94595</td><td>54.94881</td><td>⋯</td><td>NA</td><td>NA</td><td>NA</td><td>NA</td><td>NA</td><td>NA</td><td>NA</td><td>NA</td><td>NA</td><td>NA</td></tr>\n",
       "\t<tr><td>2011.917</td><td>56.85619</td><td>55.79470</td><td>56.64452</td><td>54.00000</td><td>58.83333</td><td>59.42761</td><td>61.48649</td><td>55.20833</td><td>56.33333</td><td>⋯</td><td>NA</td><td>NA</td><td>NA</td><td>NA</td><td>NA</td><td>NA</td><td>NA</td><td>NA</td><td>NA</td><td>NA</td></tr>\n",
       "\t<tr><td>2012.000</td><td>61.20401</td><td>57.33333</td><td>58.02676</td><td>54.50000</td><td>61.66667</td><td>62.16667</td><td>64.54849</td><td>53.15789</td><td>55.33333</td><td>⋯</td><td>NA</td><td>NA</td><td>NA</td><td>NA</td><td>NA</td><td>NA</td><td>NA</td><td>NA</td><td>NA</td><td>NA</td></tr>\n",
       "\t<tr><td>2012.083</td><td>63.75405</td><td>59.51613</td><td>61.48867</td><td>57.14286</td><td>63.31169</td><td>66.77419</td><td>68.12298</td><td>52.63158</td><td>56.20915</td><td>⋯</td><td>NA</td><td>NA</td><td>NA</td><td>NA</td><td>NA</td><td>NA</td><td>NA</td><td>NA</td><td>NA</td><td>NA</td></tr>\n",
       "\t<tr><td>2012.167</td><td>64.03785</td><td>63.53503</td><td>62.53968</td><td>57.30159</td><td>64.12698</td><td>70.79365</td><td>69.04762</td><td>58.85417</td><td>61.66134</td><td>⋯</td><td>NA</td><td>NA</td><td>NA</td><td>NA</td><td>NA</td><td>NA</td><td>NA</td><td>NA</td><td>NA</td><td>NA</td></tr>\n",
       "\t<tr><td>2012.250</td><td>64.47811</td><td>64.98316</td><td>61.82432</td><td>58.92256</td><td>63.25503</td><td>73.47973</td><td>71.79054</td><td>57.54190</td><td>57.16724</td><td>⋯</td><td>NA</td><td>NA</td><td>NA</td><td>NA</td><td>NA</td><td>NA</td><td>NA</td><td>NA</td><td>NA</td><td>NA</td></tr>\n",
       "</tbody>\n",
       "</table>\n"
      ],
      "text/latex": [
       "A tibble: 6 × 85\n",
       "\\begin{tabular}{lllllllllllllllllllll}\n",
       " month & demand3m & econ3m & sector3m & emp3m & firm3m & econ1yr & sector1yr & production & sales & ⋯ & news\\_5 & news\\_6 & news\\_7 & news\\_8 & pos\\_dum & neg\\_dum & index & var\\_index & var\\_pos & var\\_neg\\\\\n",
       " <dbl> & <dbl> & <dbl> & <dbl> & <dbl> & <dbl> & <dbl> & <dbl> & <dbl> & <dbl> & ⋯ & <int> & <int> & <int> & <int> & <dbl> & <dbl> & <dbl> & <dbl> & <dbl> & <dbl>\\\\\n",
       "\\hline\n",
       "\t 2011.833 & 59.53177 & 57.52508 & 57.21477 & 53.17726 & 58.86288 & 60.50000 & 63.16667 & 55.94595 & 54.94881 & ⋯ & NA & NA & NA & NA & NA & NA & NA & NA & NA & NA\\\\\n",
       "\t 2011.917 & 56.85619 & 55.79470 & 56.64452 & 54.00000 & 58.83333 & 59.42761 & 61.48649 & 55.20833 & 56.33333 & ⋯ & NA & NA & NA & NA & NA & NA & NA & NA & NA & NA\\\\\n",
       "\t 2012.000 & 61.20401 & 57.33333 & 58.02676 & 54.50000 & 61.66667 & 62.16667 & 64.54849 & 53.15789 & 55.33333 & ⋯ & NA & NA & NA & NA & NA & NA & NA & NA & NA & NA\\\\\n",
       "\t 2012.083 & 63.75405 & 59.51613 & 61.48867 & 57.14286 & 63.31169 & 66.77419 & 68.12298 & 52.63158 & 56.20915 & ⋯ & NA & NA & NA & NA & NA & NA & NA & NA & NA & NA\\\\\n",
       "\t 2012.167 & 64.03785 & 63.53503 & 62.53968 & 57.30159 & 64.12698 & 70.79365 & 69.04762 & 58.85417 & 61.66134 & ⋯ & NA & NA & NA & NA & NA & NA & NA & NA & NA & NA\\\\\n",
       "\t 2012.250 & 64.47811 & 64.98316 & 61.82432 & 58.92256 & 63.25503 & 73.47973 & 71.79054 & 57.54190 & 57.16724 & ⋯ & NA & NA & NA & NA & NA & NA & NA & NA & NA & NA\\\\\n",
       "\\end{tabular}\n"
      ],
      "text/markdown": [
       "\n",
       "A tibble: 6 × 85\n",
       "\n",
       "| month &lt;dbl&gt; | demand3m &lt;dbl&gt; | econ3m &lt;dbl&gt; | sector3m &lt;dbl&gt; | emp3m &lt;dbl&gt; | firm3m &lt;dbl&gt; | econ1yr &lt;dbl&gt; | sector1yr &lt;dbl&gt; | production &lt;dbl&gt; | sales &lt;dbl&gt; | ⋯ ⋯ | news_5 &lt;int&gt; | news_6 &lt;int&gt; | news_7 &lt;int&gt; | news_8 &lt;int&gt; | pos_dum &lt;dbl&gt; | neg_dum &lt;dbl&gt; | index &lt;dbl&gt; | var_index &lt;dbl&gt; | var_pos &lt;dbl&gt; | var_neg &lt;dbl&gt; |\n",
       "|---|---|---|---|---|---|---|---|---|---|---|---|---|---|---|---|---|---|---|---|---|\n",
       "| 2011.833 | 59.53177 | 57.52508 | 57.21477 | 53.17726 | 58.86288 | 60.50000 | 63.16667 | 55.94595 | 54.94881 | ⋯ | NA | NA | NA | NA | NA | NA | NA | NA | NA | NA |\n",
       "| 2011.917 | 56.85619 | 55.79470 | 56.64452 | 54.00000 | 58.83333 | 59.42761 | 61.48649 | 55.20833 | 56.33333 | ⋯ | NA | NA | NA | NA | NA | NA | NA | NA | NA | NA |\n",
       "| 2012.000 | 61.20401 | 57.33333 | 58.02676 | 54.50000 | 61.66667 | 62.16667 | 64.54849 | 53.15789 | 55.33333 | ⋯ | NA | NA | NA | NA | NA | NA | NA | NA | NA | NA |\n",
       "| 2012.083 | 63.75405 | 59.51613 | 61.48867 | 57.14286 | 63.31169 | 66.77419 | 68.12298 | 52.63158 | 56.20915 | ⋯ | NA | NA | NA | NA | NA | NA | NA | NA | NA | NA |\n",
       "| 2012.167 | 64.03785 | 63.53503 | 62.53968 | 57.30159 | 64.12698 | 70.79365 | 69.04762 | 58.85417 | 61.66134 | ⋯ | NA | NA | NA | NA | NA | NA | NA | NA | NA | NA |\n",
       "| 2012.250 | 64.47811 | 64.98316 | 61.82432 | 58.92256 | 63.25503 | 73.47973 | 71.79054 | 57.54190 | 57.16724 | ⋯ | NA | NA | NA | NA | NA | NA | NA | NA | NA | NA |\n",
       "\n"
      ],
      "text/plain": [
       "  month    demand3m econ3m   sector3m emp3m    firm3m   econ1yr  sector1yr\n",
       "1 2011.833 59.53177 57.52508 57.21477 53.17726 58.86288 60.50000 63.16667 \n",
       "2 2011.917 56.85619 55.79470 56.64452 54.00000 58.83333 59.42761 61.48649 \n",
       "3 2012.000 61.20401 57.33333 58.02676 54.50000 61.66667 62.16667 64.54849 \n",
       "4 2012.083 63.75405 59.51613 61.48867 57.14286 63.31169 66.77419 68.12298 \n",
       "5 2012.167 64.03785 63.53503 62.53968 57.30159 64.12698 70.79365 69.04762 \n",
       "6 2012.250 64.47811 64.98316 61.82432 58.92256 63.25503 73.47973 71.79054 \n",
       "  production sales    ⋯ news_5 news_6 news_7 news_8 pos_dum neg_dum index\n",
       "1 55.94595   54.94881 ⋯ NA     NA     NA     NA     NA      NA      NA   \n",
       "2 55.20833   56.33333 ⋯ NA     NA     NA     NA     NA      NA      NA   \n",
       "3 53.15789   55.33333 ⋯ NA     NA     NA     NA     NA      NA      NA   \n",
       "4 52.63158   56.20915 ⋯ NA     NA     NA     NA     NA      NA      NA   \n",
       "5 58.85417   61.66134 ⋯ NA     NA     NA     NA     NA      NA      NA   \n",
       "6 57.54190   57.16724 ⋯ NA     NA     NA     NA     NA      NA      NA   \n",
       "  var_index var_pos var_neg\n",
       "1 NA        NA      NA     \n",
       "2 NA        NA      NA     \n",
       "3 NA        NA      NA     \n",
       "4 NA        NA      NA     \n",
       "5 NA        NA      NA     \n",
       "6 NA        NA      NA     "
      ]
     },
     "metadata": {},
     "output_type": "display_data"
    }
   ],
   "source": [
    "# Merge\n",
    "data <- expectations %>%\n",
    "    full_join(gdp,by=\"month\") %>%\n",
    "    full_join(words,by=\"month\") %>%\n",
    "    full_join(elec,by=\"month\") %>%\n",
    "    mutate(month=as.numeric(as.yearmon(month))) %>%\n",
    "    full_join(news_variables,by=\"month\") \n",
    "head(data)"
   ]
  },
  {
   "cell_type": "code",
   "execution_count": 5,
   "id": "3c8ca19e-8c36-40ce-ac00-eef39605ceaa",
   "metadata": {},
   "outputs": [],
   "source": [
    "# Specify number of topics\n",
    "k = 8"
   ]
  },
  {
   "cell_type": "code",
   "execution_count": 6,
   "id": "b3e8d973-8dbe-41a5-bc18-d8958af160c4",
   "metadata": {},
   "outputs": [
    {
     "data": {
      "text/html": [
       "<style>\n",
       ".list-inline {list-style: none; margin:0; padding: 0}\n",
       ".list-inline>li {display: inline-block}\n",
       ".list-inline>li:not(:last-child)::after {content: \"\\00b7\"; padding: 0 .5ex}\n",
       "</style>\n",
       "<ol class=list-inline><li>'month'</li><li>'demand3m'</li><li>'econ3m'</li><li>'sector3m'</li><li>'emp3m'</li><li>'firm3m'</li><li>'econ1yr'</li><li>'sector1yr'</li><li>'production'</li><li>'sales'</li><li>'demand'</li><li>'purchases'</li><li>'inventories'</li><li>'firmsituation'</li><li>'saleprice'</li><li>'inputprice'</li><li>'gdp'</li><li>'gdp_nprim'</li><li>'gdp_nprim_wo_manuf'</li><li>'gdp_prim'</li><li>'mining'</li><li>'manufacturing'</li><li>'manufacturing_nprim'</li><li>'electricity'</li><li>'construction'</li><li>'commerce'</li><li>'services'</li><li>'transport'</li><li>'restaurants'</li><li>'telecom'</li><li>'finserv'</li><li>'firmserv'</li><li>'publicadm'</li><li>'otherserv'</li><li>'totalserv'</li><li>'mayor'</li><li>'crecimiento'</li><li>'bien'</li><li>'importante'</li><li>'menor'</li><li>'riesgo'</li><li>'menos'</li><li>'bajo'</li><li>'mercado'</li><li>'presidente'</li><li>'gobierno'</li><li>'eeuu'</li><li>'empresa'</li><li>'dolar'</li><li>'proyecto'</li><li>'trabajo'</li><li>'desempleo'</li><li>'enfermo'</li><li>'var_elec'</li><li>'var_elecsm'</li><li>'gamma_1'</li><li>'gamma_2'</li><li>'gamma_3'</li><li>'gamma_4'</li><li>'gamma_5'</li><li>'gamma_6'</li><li>'gamma_7'</li><li>'gamma_8'</li><li>'count_1'</li><li>'count_2'</li><li>'count_3'</li><li>'count_4'</li><li>'count_5'</li><li>'count_6'</li><li>'count_7'</li><li>'count_8'</li><li>'news_1'</li><li>'news_2'</li><li>'news_3'</li><li>'news_4'</li><li>'news_5'</li><li>'news_6'</li><li>'news_7'</li><li>'news_8'</li><li>'pos_dum'</li><li>'neg_dum'</li><li>'index'</li><li>'var_index'</li><li>'var_pos'</li><li>'var_neg'</li></ol>\n"
      ],
      "text/latex": [
       "\\begin{enumerate*}\n",
       "\\item 'month'\n",
       "\\item 'demand3m'\n",
       "\\item 'econ3m'\n",
       "\\item 'sector3m'\n",
       "\\item 'emp3m'\n",
       "\\item 'firm3m'\n",
       "\\item 'econ1yr'\n",
       "\\item 'sector1yr'\n",
       "\\item 'production'\n",
       "\\item 'sales'\n",
       "\\item 'demand'\n",
       "\\item 'purchases'\n",
       "\\item 'inventories'\n",
       "\\item 'firmsituation'\n",
       "\\item 'saleprice'\n",
       "\\item 'inputprice'\n",
       "\\item 'gdp'\n",
       "\\item 'gdp\\_nprim'\n",
       "\\item 'gdp\\_nprim\\_wo\\_manuf'\n",
       "\\item 'gdp\\_prim'\n",
       "\\item 'mining'\n",
       "\\item 'manufacturing'\n",
       "\\item 'manufacturing\\_nprim'\n",
       "\\item 'electricity'\n",
       "\\item 'construction'\n",
       "\\item 'commerce'\n",
       "\\item 'services'\n",
       "\\item 'transport'\n",
       "\\item 'restaurants'\n",
       "\\item 'telecom'\n",
       "\\item 'finserv'\n",
       "\\item 'firmserv'\n",
       "\\item 'publicadm'\n",
       "\\item 'otherserv'\n",
       "\\item 'totalserv'\n",
       "\\item 'mayor'\n",
       "\\item 'crecimiento'\n",
       "\\item 'bien'\n",
       "\\item 'importante'\n",
       "\\item 'menor'\n",
       "\\item 'riesgo'\n",
       "\\item 'menos'\n",
       "\\item 'bajo'\n",
       "\\item 'mercado'\n",
       "\\item 'presidente'\n",
       "\\item 'gobierno'\n",
       "\\item 'eeuu'\n",
       "\\item 'empresa'\n",
       "\\item 'dolar'\n",
       "\\item 'proyecto'\n",
       "\\item 'trabajo'\n",
       "\\item 'desempleo'\n",
       "\\item 'enfermo'\n",
       "\\item 'var\\_elec'\n",
       "\\item 'var\\_elecsm'\n",
       "\\item 'gamma\\_1'\n",
       "\\item 'gamma\\_2'\n",
       "\\item 'gamma\\_3'\n",
       "\\item 'gamma\\_4'\n",
       "\\item 'gamma\\_5'\n",
       "\\item 'gamma\\_6'\n",
       "\\item 'gamma\\_7'\n",
       "\\item 'gamma\\_8'\n",
       "\\item 'count\\_1'\n",
       "\\item 'count\\_2'\n",
       "\\item 'count\\_3'\n",
       "\\item 'count\\_4'\n",
       "\\item 'count\\_5'\n",
       "\\item 'count\\_6'\n",
       "\\item 'count\\_7'\n",
       "\\item 'count\\_8'\n",
       "\\item 'news\\_1'\n",
       "\\item 'news\\_2'\n",
       "\\item 'news\\_3'\n",
       "\\item 'news\\_4'\n",
       "\\item 'news\\_5'\n",
       "\\item 'news\\_6'\n",
       "\\item 'news\\_7'\n",
       "\\item 'news\\_8'\n",
       "\\item 'pos\\_dum'\n",
       "\\item 'neg\\_dum'\n",
       "\\item 'index'\n",
       "\\item 'var\\_index'\n",
       "\\item 'var\\_pos'\n",
       "\\item 'var\\_neg'\n",
       "\\end{enumerate*}\n"
      ],
      "text/markdown": [
       "1. 'month'\n",
       "2. 'demand3m'\n",
       "3. 'econ3m'\n",
       "4. 'sector3m'\n",
       "5. 'emp3m'\n",
       "6. 'firm3m'\n",
       "7. 'econ1yr'\n",
       "8. 'sector1yr'\n",
       "9. 'production'\n",
       "10. 'sales'\n",
       "11. 'demand'\n",
       "12. 'purchases'\n",
       "13. 'inventories'\n",
       "14. 'firmsituation'\n",
       "15. 'saleprice'\n",
       "16. 'inputprice'\n",
       "17. 'gdp'\n",
       "18. 'gdp_nprim'\n",
       "19. 'gdp_nprim_wo_manuf'\n",
       "20. 'gdp_prim'\n",
       "21. 'mining'\n",
       "22. 'manufacturing'\n",
       "23. 'manufacturing_nprim'\n",
       "24. 'electricity'\n",
       "25. 'construction'\n",
       "26. 'commerce'\n",
       "27. 'services'\n",
       "28. 'transport'\n",
       "29. 'restaurants'\n",
       "30. 'telecom'\n",
       "31. 'finserv'\n",
       "32. 'firmserv'\n",
       "33. 'publicadm'\n",
       "34. 'otherserv'\n",
       "35. 'totalserv'\n",
       "36. 'mayor'\n",
       "37. 'crecimiento'\n",
       "38. 'bien'\n",
       "39. 'importante'\n",
       "40. 'menor'\n",
       "41. 'riesgo'\n",
       "42. 'menos'\n",
       "43. 'bajo'\n",
       "44. 'mercado'\n",
       "45. 'presidente'\n",
       "46. 'gobierno'\n",
       "47. 'eeuu'\n",
       "48. 'empresa'\n",
       "49. 'dolar'\n",
       "50. 'proyecto'\n",
       "51. 'trabajo'\n",
       "52. 'desempleo'\n",
       "53. 'enfermo'\n",
       "54. 'var_elec'\n",
       "55. 'var_elecsm'\n",
       "56. 'gamma_1'\n",
       "57. 'gamma_2'\n",
       "58. 'gamma_3'\n",
       "59. 'gamma_4'\n",
       "60. 'gamma_5'\n",
       "61. 'gamma_6'\n",
       "62. 'gamma_7'\n",
       "63. 'gamma_8'\n",
       "64. 'count_1'\n",
       "65. 'count_2'\n",
       "66. 'count_3'\n",
       "67. 'count_4'\n",
       "68. 'count_5'\n",
       "69. 'count_6'\n",
       "70. 'count_7'\n",
       "71. 'count_8'\n",
       "72. 'news_1'\n",
       "73. 'news_2'\n",
       "74. 'news_3'\n",
       "75. 'news_4'\n",
       "76. 'news_5'\n",
       "77. 'news_6'\n",
       "78. 'news_7'\n",
       "79. 'news_8'\n",
       "80. 'pos_dum'\n",
       "81. 'neg_dum'\n",
       "82. 'index'\n",
       "83. 'var_index'\n",
       "84. 'var_pos'\n",
       "85. 'var_neg'\n",
       "\n",
       "\n"
      ],
      "text/plain": [
       " [1] \"month\"               \"demand3m\"            \"econ3m\"             \n",
       " [4] \"sector3m\"            \"emp3m\"               \"firm3m\"             \n",
       " [7] \"econ1yr\"             \"sector1yr\"           \"production\"         \n",
       "[10] \"sales\"               \"demand\"              \"purchases\"          \n",
       "[13] \"inventories\"         \"firmsituation\"       \"saleprice\"          \n",
       "[16] \"inputprice\"          \"gdp\"                 \"gdp_nprim\"          \n",
       "[19] \"gdp_nprim_wo_manuf\"  \"gdp_prim\"            \"mining\"             \n",
       "[22] \"manufacturing\"       \"manufacturing_nprim\" \"electricity\"        \n",
       "[25] \"construction\"        \"commerce\"            \"services\"           \n",
       "[28] \"transport\"           \"restaurants\"         \"telecom\"            \n",
       "[31] \"finserv\"             \"firmserv\"            \"publicadm\"          \n",
       "[34] \"otherserv\"           \"totalserv\"           \"mayor\"              \n",
       "[37] \"crecimiento\"         \"bien\"                \"importante\"         \n",
       "[40] \"menor\"               \"riesgo\"              \"menos\"              \n",
       "[43] \"bajo\"                \"mercado\"             \"presidente\"         \n",
       "[46] \"gobierno\"            \"eeuu\"                \"empresa\"            \n",
       "[49] \"dolar\"               \"proyecto\"            \"trabajo\"            \n",
       "[52] \"desempleo\"           \"enfermo\"             \"var_elec\"           \n",
       "[55] \"var_elecsm\"          \"gamma_1\"             \"gamma_2\"            \n",
       "[58] \"gamma_3\"             \"gamma_4\"             \"gamma_5\"            \n",
       "[61] \"gamma_6\"             \"gamma_7\"             \"gamma_8\"            \n",
       "[64] \"count_1\"             \"count_2\"             \"count_3\"            \n",
       "[67] \"count_4\"             \"count_5\"             \"count_6\"            \n",
       "[70] \"count_7\"             \"count_8\"             \"news_1\"             \n",
       "[73] \"news_2\"              \"news_3\"              \"news_4\"             \n",
       "[76] \"news_5\"              \"news_6\"              \"news_7\"             \n",
       "[79] \"news_8\"              \"pos_dum\"             \"neg_dum\"            \n",
       "[82] \"index\"               \"var_index\"           \"var_pos\"            \n",
       "[85] \"var_neg\"            "
      ]
     },
     "metadata": {},
     "output_type": "display_data"
    }
   ],
   "source": [
    "# Variable names\n",
    "colnames(data)"
   ]
  },
  {
   "cell_type": "code",
   "execution_count": 7,
   "id": "1fbe3e07-2499-43f7-8626-e52eea4800c3",
   "metadata": {},
   "outputs": [],
   "source": [
    "# Make lists\n",
    "gammas <- which(colnames(data)==\"gamma_1\"):which(colnames(data)==paste(\"gamma\",k,sep=\"_\"))\n",
    "list_gammas <- colnames(data)[gammas]\n",
    "counts <- which(colnames(data)==\"count_1\"):which(colnames(data)==paste(\"news\",k,sep=\"_\"))\n",
    "list_counts <- colnames(data)[counts]\n",
    "sentiment <- which(colnames(data)==\"pos_dum\"):which(colnames(data)==\"var_neg\")\n",
    "list_sentiment <- colnames(data)[sentiment]\n",
    "exp <- which(colnames(data)==\"demand3m\"):which(colnames(data)==\"inputprice\")\n",
    "list_exp <- colnames(data)[exp]\n",
    "gdp_vars <- which(colnames(data)==\"gdp\"):which(colnames(data)==\"totalserv\")\n",
    "list_gdp_vars <- colnames(data)[gdp_vars]\n",
    "other_vars <- which(colnames(data)==\"mayor\"):which(colnames(data)==\"var_elecsm\")\n",
    "list_other_vars <- colnames(data)[other_vars]"
   ]
  },
  {
   "cell_type": "code",
   "execution_count": 8,
   "id": "a562ba50-3165-48d7-8600-24c15c85d5ce",
   "metadata": {},
   "outputs": [],
   "source": [
    "# Two functions: percentual variation and difference\n",
    "percentvar <- function(x){\n",
    "    ((x+lag(x,1))/(lag(x,12)+lag(x,13)) - 1)* 100 # To prevent Inf values, taking two-period averages.\n",
    "}\n",
    "diffvar <- function(x){\n",
    "    (x - lag(x,12))\n",
    "}"
   ]
  },
  {
   "cell_type": "code",
   "execution_count": 9,
   "id": "63596924-b7b1-4144-a518-1a9ccd3dc859",
   "metadata": {},
   "outputs": [],
   "source": [
    "# Calculate percentual variation for variables in levels (counts of words and news)\n",
    "list_var_counts <- paste(\"var\",list_counts,sep=\"_\")\n",
    "var_counts_data <- as.data.frame(matrix(, nrow = nrow(data), ncol = length(list_counts)))\n",
    "for (i in 1:length(list_counts)) {\n",
    "    var_counts_data[,i] <- percentvar(data[,c(list_counts[[i]])])\n",
    "    colnames(var_counts_data)[i] <- list_var_counts[i] \n",
    "}"
   ]
  },
  {
   "cell_type": "code",
   "execution_count": 10,
   "id": "25e5d8fd-85dc-4ebc-b6db-93cbeb47842b",
   "metadata": {},
   "outputs": [
    {
     "data": {
      "text/html": [
       "<style>\n",
       ".list-inline {list-style: none; margin:0; padding: 0}\n",
       ".list-inline>li {display: inline-block}\n",
       ".list-inline>li:not(:last-child)::after {content: \"\\00b7\"; padding: 0 .5ex}\n",
       "</style>\n",
       "<ol class=list-inline><li>0</li><li>0</li><li>0</li><li>0</li><li>0</li><li>0</li><li>0</li><li>0</li><li>0</li><li>0</li><li>0</li><li>0</li><li>0</li><li>0</li><li>0</li><li>0</li><li>0</li><li>0</li><li>0</li><li>0</li><li>0</li><li>0</li><li>0</li><li>0</li><li>0</li><li>0</li><li>0</li><li>0</li><li>0</li><li>0</li><li>0</li><li>0</li><li>0</li><li>0</li><li>0</li><li>0</li><li>0</li><li>0</li><li>0</li><li>0</li><li>0</li><li>0</li><li>0</li><li>0</li><li>0</li><li>0</li><li>0</li><li>0</li><li>0</li><li>0</li><li>0</li><li>0</li><li>0</li><li>0</li><li>0</li><li>0</li><li>0</li><li>0</li><li>0</li><li>0</li><li>0</li><li>0</li><li>0</li><li>0</li><li>0</li><li>0</li><li>0</li><li>0</li><li>0</li><li>0</li><li>0</li><li>0</li><li>0</li><li>0</li><li>0</li><li>0</li><li>0</li><li>1</li><li>0</li><li>0</li><li>0</li><li>838</li><li>849</li><li>820</li><li>840</li><li>719</li><li>790</li><li>745</li><li>1634</li><li>1543</li><li>1440</li><li>1517</li><li>1367</li><li>1221</li></ol>\n"
      ],
      "text/latex": [
       "\\begin{enumerate*}\n",
       "\\item 0\n",
       "\\item 0\n",
       "\\item 0\n",
       "\\item 0\n",
       "\\item 0\n",
       "\\item 0\n",
       "\\item 0\n",
       "\\item 0\n",
       "\\item 0\n",
       "\\item 0\n",
       "\\item 0\n",
       "\\item 0\n",
       "\\item 0\n",
       "\\item 0\n",
       "\\item 0\n",
       "\\item 0\n",
       "\\item 0\n",
       "\\item 0\n",
       "\\item 0\n",
       "\\item 0\n",
       "\\item 0\n",
       "\\item 0\n",
       "\\item 0\n",
       "\\item 0\n",
       "\\item 0\n",
       "\\item 0\n",
       "\\item 0\n",
       "\\item 0\n",
       "\\item 0\n",
       "\\item 0\n",
       "\\item 0\n",
       "\\item 0\n",
       "\\item 0\n",
       "\\item 0\n",
       "\\item 0\n",
       "\\item 0\n",
       "\\item 0\n",
       "\\item 0\n",
       "\\item 0\n",
       "\\item 0\n",
       "\\item 0\n",
       "\\item 0\n",
       "\\item 0\n",
       "\\item 0\n",
       "\\item 0\n",
       "\\item 0\n",
       "\\item 0\n",
       "\\item 0\n",
       "\\item 0\n",
       "\\item 0\n",
       "\\item 0\n",
       "\\item 0\n",
       "\\item 0\n",
       "\\item 0\n",
       "\\item 0\n",
       "\\item 0\n",
       "\\item 0\n",
       "\\item 0\n",
       "\\item 0\n",
       "\\item 0\n",
       "\\item 0\n",
       "\\item 0\n",
       "\\item 0\n",
       "\\item 0\n",
       "\\item 0\n",
       "\\item 0\n",
       "\\item 0\n",
       "\\item 0\n",
       "\\item 0\n",
       "\\item 0\n",
       "\\item 0\n",
       "\\item 0\n",
       "\\item 0\n",
       "\\item 0\n",
       "\\item 0\n",
       "\\item 0\n",
       "\\item 0\n",
       "\\item 1\n",
       "\\item 0\n",
       "\\item 0\n",
       "\\item 0\n",
       "\\item 838\n",
       "\\item 849\n",
       "\\item 820\n",
       "\\item 840\n",
       "\\item 719\n",
       "\\item 790\n",
       "\\item 745\n",
       "\\item 1634\n",
       "\\item 1543\n",
       "\\item 1440\n",
       "\\item 1517\n",
       "\\item 1367\n",
       "\\item 1221\n",
       "\\end{enumerate*}\n"
      ],
      "text/markdown": [
       "1. 0\n",
       "2. 0\n",
       "3. 0\n",
       "4. 0\n",
       "5. 0\n",
       "6. 0\n",
       "7. 0\n",
       "8. 0\n",
       "9. 0\n",
       "10. 0\n",
       "11. 0\n",
       "12. 0\n",
       "13. 0\n",
       "14. 0\n",
       "15. 0\n",
       "16. 0\n",
       "17. 0\n",
       "18. 0\n",
       "19. 0\n",
       "20. 0\n",
       "21. 0\n",
       "22. 0\n",
       "23. 0\n",
       "24. 0\n",
       "25. 0\n",
       "26. 0\n",
       "27. 0\n",
       "28. 0\n",
       "29. 0\n",
       "30. 0\n",
       "31. 0\n",
       "32. 0\n",
       "33. 0\n",
       "34. 0\n",
       "35. 0\n",
       "36. 0\n",
       "37. 0\n",
       "38. 0\n",
       "39. 0\n",
       "40. 0\n",
       "41. 0\n",
       "42. 0\n",
       "43. 0\n",
       "44. 0\n",
       "45. 0\n",
       "46. 0\n",
       "47. 0\n",
       "48. 0\n",
       "49. 0\n",
       "50. 0\n",
       "51. 0\n",
       "52. 0\n",
       "53. 0\n",
       "54. 0\n",
       "55. 0\n",
       "56. 0\n",
       "57. 0\n",
       "58. 0\n",
       "59. 0\n",
       "60. 0\n",
       "61. 0\n",
       "62. 0\n",
       "63. 0\n",
       "64. 0\n",
       "65. 0\n",
       "66. 0\n",
       "67. 0\n",
       "68. 0\n",
       "69. 0\n",
       "70. 0\n",
       "71. 0\n",
       "72. 0\n",
       "73. 0\n",
       "74. 0\n",
       "75. 0\n",
       "76. 0\n",
       "77. 0\n",
       "78. 1\n",
       "79. 0\n",
       "80. 0\n",
       "81. 0\n",
       "82. 838\n",
       "83. 849\n",
       "84. 820\n",
       "85. 840\n",
       "86. 719\n",
       "87. 790\n",
       "88. 745\n",
       "89. 1634\n",
       "90. 1543\n",
       "91. 1440\n",
       "92. 1517\n",
       "93. 1367\n",
       "94. 1221\n",
       "\n",
       "\n"
      ],
      "text/plain": [
       " [1]    0    0    0    0    0    0    0    0    0    0    0    0    0    0    0\n",
       "[16]    0    0    0    0    0    0    0    0    0    0    0    0    0    0    0\n",
       "[31]    0    0    0    0    0    0    0    0    0    0    0    0    0    0    0\n",
       "[46]    0    0    0    0    0    0    0    0    0    0    0    0    0    0    0\n",
       "[61]    0    0    0    0    0    0    0    0    0    0    0    0    0    0    0\n",
       "[76]    0    0    1    0    0    0  838  849  820  840  719  790  745 1634 1543\n",
       "[91] 1440 1517 1367 1221"
      ]
     },
     "metadata": {},
     "output_type": "display_data"
    }
   ],
   "source": [
    "# Special case\n",
    "# Topic #4 is related to the COVID pandemic. Before 2020, the number of news that mostly covered that topic was 0. \n",
    "# Filling missings as 0 before 2020 and adding a dummy for post-COVID.\n",
    "news_variables$news_4 \n",
    "var_counts_data$var_news_4 <- ifelse(is.na(var_counts_data$var_news_4) | !is.finite(var_counts_data$var_news_4) ,0 ,var_counts_data$var_news_4)\n",
    "var_counts_data$covid <- data$month > 2020"
   ]
  },
  {
   "cell_type": "code",
   "execution_count": 11,
   "id": "6f271d29-9d03-4db3-9c6d-830d125b48ad",
   "metadata": {},
   "outputs": [],
   "source": [
    "# Calculate difference for proportions (gammas)\n",
    "list_var_gammas <- paste(\"var\",list_gammas,sep=\"_\")\n",
    "var_gammas_data <- as.data.frame(matrix(, nrow = nrow(data), ncol = length(list_gammas)))\n",
    "for (i in 1:length(list_gammas)) {\n",
    "    var_gammas_data[,i] <- diffvar(data[,c(list_gammas[[i]])])\n",
    "    colnames(var_gammas_data)[i] <- list_var_gammas[i] \n",
    "}"
   ]
  },
  {
   "cell_type": "code",
   "execution_count": 12,
   "id": "d1b71759-a3ff-48fa-a6bd-097b11de2738",
   "metadata": {},
   "outputs": [],
   "source": [
    "# Function: find the best time lag \n",
    "Find_Abs_Max_CCF<- function(a,b) {\n",
    "    d <- ccf(a, b, plot = FALSE, lag.max = 3)\n",
    "    cor = d$acf[,,1]\n",
    "    abscor = abs(d$acf[,,1])\n",
    "    lag = d$lag[,,1]\n",
    "    res = data.frame(cor,lag)\n",
    "    absres = data.frame(abscor,lag)\n",
    "    absres_max = res[which.max(absres$abscor),]\n",
    "    return(absres_max)\n",
    "}  "
   ]
  },
  {
   "cell_type": "code",
   "execution_count": 13,
   "id": "a385d33f-32ad-4d5f-9449-29105b277dcc",
   "metadata": {},
   "outputs": [
    {
     "data": {
      "text/html": [
       "<table class=\"dataframe\">\n",
       "<caption>A matrix: 8 × 2 of type dbl</caption>\n",
       "<tbody>\n",
       "\t<tr><td>-0.2831300</td><td>-1</td></tr>\n",
       "\t<tr><td> 0.4415099</td><td>-3</td></tr>\n",
       "\t<tr><td> 0.4918664</td><td> 0</td></tr>\n",
       "\t<tr><td>-0.6477444</td><td>-1</td></tr>\n",
       "\t<tr><td> 0.3638346</td><td> 0</td></tr>\n",
       "\t<tr><td> 0.2206982</td><td>-1</td></tr>\n",
       "\t<tr><td> 0.1948996</td><td>-3</td></tr>\n",
       "\t<tr><td> 0.4525459</td><td>-3</td></tr>\n",
       "</tbody>\n",
       "</table>\n"
      ],
      "text/latex": [
       "A matrix: 8 × 2 of type dbl\n",
       "\\begin{tabular}{ll}\n",
       "\t -0.2831300 & -1\\\\\n",
       "\t  0.4415099 & -3\\\\\n",
       "\t  0.4918664 &  0\\\\\n",
       "\t -0.6477444 & -1\\\\\n",
       "\t  0.3638346 &  0\\\\\n",
       "\t  0.2206982 & -1\\\\\n",
       "\t  0.1948996 & -3\\\\\n",
       "\t  0.4525459 & -3\\\\\n",
       "\\end{tabular}\n"
      ],
      "text/markdown": [
       "\n",
       "A matrix: 8 × 2 of type dbl\n",
       "\n",
       "| -0.2831300 | -1 |\n",
       "|  0.4415099 | -3 |\n",
       "|  0.4918664 |  0 |\n",
       "| -0.6477444 | -1 |\n",
       "|  0.3638346 |  0 |\n",
       "|  0.2206982 | -1 |\n",
       "|  0.1948996 | -3 |\n",
       "|  0.4525459 | -3 |\n",
       "\n"
      ],
      "text/plain": [
       "     [,1]       [,2]\n",
       "[1,] -0.2831300 -1  \n",
       "[2,]  0.4415099 -3  \n",
       "[3,]  0.4918664  0  \n",
       "[4,] -0.6477444 -1  \n",
       "[5,]  0.3638346  0  \n",
       "[6,]  0.2206982 -1  \n",
       "[7,]  0.1948996 -3  \n",
       "[8,]  0.4525459 -3  "
      ]
     },
     "metadata": {},
     "output_type": "display_data"
    }
   ],
   "source": [
    "# Identify the best lag for gammas\n",
    "data_for_correl <- data %>%\n",
    "filter(!is.na(gamma_1))\n",
    "lags <- matrix(, length(c(gammas)), 2)\n",
    "for (i in 1:length(c(gammas))) {\n",
    "    if (i<=k) {\n",
    "    max <- Find_Abs_Max_CCF(data_for_correl[,c(list_gammas[[i]])],data_for_correl$gdp)\n",
    "      lags[i,1] <-max[[1]] \n",
    "      lags[i,2] <-max[[2]] \n",
    "        }\n",
    "      }\n",
    "lags"
   ]
  },
  {
   "cell_type": "code",
   "execution_count": 14,
   "id": "7f41d1cf-68c6-425f-927e-d0e89f0128d6",
   "metadata": {},
   "outputs": [],
   "source": [
    "# Calculate lags for gammas and counts\n",
    "num_lag <-1\n",
    "list_l_gammas <- paste(\"l\",list_gammas,sep=\"_\")\n",
    "list_l_counts <- paste(\"l\",list_counts,sep=\"_\")\n",
    "l1 <- as.data.frame(matrix(, nrow = nrow(data), ncol = length(list_l_gammas)))\n",
    "l2 <- as.data.frame(matrix(, nrow = nrow(data), ncol = length(list_l_counts)))\n",
    "for (i in 1:length(list_gammas)) {\n",
    "    l1[,i] <- lag(data[,c(list_gammas[[i]])], num_lag, na.pad = TRUE)\n",
    "    colnames(l1)[i] <- list_l_gammas[i] \n",
    "}\n",
    "for (i in 1:length(list_counts)) {\n",
    "    l2[,i] <- lag(data[,c(list_counts[[i]])], num_lag, na.pad = TRUE)\n",
    "    colnames(l2)[i] <- list_l_counts[i] \n",
    "}"
   ]
  },
  {
   "cell_type": "code",
   "execution_count": 15,
   "id": "d5c5c11e-6069-45c7-bdc9-c5c9d5fded6b",
   "metadata": {},
   "outputs": [],
   "source": [
    "# Calculate lags for sentiment variables\n",
    "list_l_sentiment <- paste(\"l\",list_sentiment,sep=\"_\")\n",
    "l3 <- as.data.frame(matrix(, nrow = nrow(data), ncol = length(list_l_sentiment)))\n",
    "for (i in 1:length(list_sentiment)) {\n",
    "    l3[,i] <- lag(data[,c(sentiment[[i]])], num_lag, na.pad = TRUE)\n",
    "    colnames(l3)[i] <- list_l_sentiment[i] \n",
    "}"
   ]
  },
  {
   "cell_type": "code",
   "execution_count": 16,
   "id": "8fbd2c01-1884-46f1-bf27-2e127bc50249",
   "metadata": {},
   "outputs": [],
   "source": [
    "# Merge with original dataset\n",
    "all_data <- cbind(data,var_gammas_data,var_counts_data,l1,l2,l3)"
   ]
  },
  {
   "cell_type": "code",
   "execution_count": 17,
   "id": "7026b4a1-d802-436b-8481-f1e5357b2591",
   "metadata": {},
   "outputs": [],
   "source": [
    "#Calculate lags for variation in gammas/counts\n",
    "list_l_var_gammas <- paste(\"l\",list_var_gammas,sep=\"_\")\n",
    "list_l_var_counts <- paste(\"l\",list_var_counts,sep=\"_\")"
   ]
  },
  {
   "cell_type": "code",
   "execution_count": 18,
   "id": "aef4b243-b6b5-49eb-9d42-1b019bfce9cd",
   "metadata": {},
   "outputs": [],
   "source": [
    "l4 <- as.data.frame(matrix(, nrow = nrow(data), ncol = length(list_l_gammas)))\n",
    "l5 <- as.data.frame(matrix(, nrow = nrow(data), ncol = length(list_l_counts)))\n",
    "for (i in 1:length(list_var_gammas)) {\n",
    "    l4[,i] <- lag(all_data[,c(list_var_gammas[[i]])], num_lag, na.pad = TRUE)\n",
    "    colnames(l4)[i] <- list_l_var_gammas[i] \n",
    "}\n",
    "for (i in 1:length(list_var_counts)) {\n",
    "    l5[,i] <- lag(all_data[,c(list_var_counts[[i]])], num_lag, na.pad = TRUE)\n",
    "    colnames(l5)[i] <- list_l_var_counts[i] \n",
    "}"
   ]
  },
  {
   "cell_type": "code",
   "execution_count": 19,
   "id": "26411ba0-8cbc-4c70-a5a8-11adea834675",
   "metadata": {},
   "outputs": [],
   "source": [
    "# Extract month, get month dummies\n",
    "month_var <- tibble(m=as.factor(format(as.Date(as.yearmon(data$month)),\"%m\")))\n",
    "month_dummies <- dummy_cols(month_var,select_columns=\"m\")\n",
    "# Extract year, get year dummies\n",
    "year_var <- tibble(y=as.factor(format(as.Date(as.yearmon(data$month)),\"%y\")))\n",
    "year_dummies <- dummy_cols(year_var,select_columns=\"y\")"
   ]
  },
  {
   "cell_type": "code",
   "execution_count": 20,
   "id": "2f2764e2-b642-4f8d-97da-dd17cc30baf8",
   "metadata": {},
   "outputs": [
    {
     "data": {
      "text/html": [
       "<table class=\"dataframe\">\n",
       "<caption>A data.frame: 6 × 188</caption>\n",
       "<thead>\n",
       "\t<tr><th></th><th scope=col>month</th><th scope=col>demand3m</th><th scope=col>econ3m</th><th scope=col>sector3m</th><th scope=col>emp3m</th><th scope=col>firm3m</th><th scope=col>econ1yr</th><th scope=col>sector1yr</th><th scope=col>production</th><th scope=col>sales</th><th scope=col>⋯</th><th scope=col>y_11</th><th scope=col>y_12</th><th scope=col>y_13</th><th scope=col>y_14</th><th scope=col>y_15</th><th scope=col>y_16</th><th scope=col>y_17</th><th scope=col>y_18</th><th scope=col>y_19</th><th scope=col>y_20</th></tr>\n",
       "\t<tr><th></th><th scope=col>&lt;dbl&gt;</th><th scope=col>&lt;dbl&gt;</th><th scope=col>&lt;dbl&gt;</th><th scope=col>&lt;dbl&gt;</th><th scope=col>&lt;dbl&gt;</th><th scope=col>&lt;dbl&gt;</th><th scope=col>&lt;dbl&gt;</th><th scope=col>&lt;dbl&gt;</th><th scope=col>&lt;dbl&gt;</th><th scope=col>&lt;dbl&gt;</th><th scope=col>⋯</th><th scope=col>&lt;int&gt;</th><th scope=col>&lt;int&gt;</th><th scope=col>&lt;int&gt;</th><th scope=col>&lt;int&gt;</th><th scope=col>&lt;int&gt;</th><th scope=col>&lt;int&gt;</th><th scope=col>&lt;int&gt;</th><th scope=col>&lt;int&gt;</th><th scope=col>&lt;int&gt;</th><th scope=col>&lt;int&gt;</th></tr>\n",
       "</thead>\n",
       "<tbody>\n",
       "\t<tr><th scope=row>1</th><td>2011.833</td><td>59.53177</td><td>57.52508</td><td>57.21477</td><td>53.17726</td><td>58.86288</td><td>60.50000</td><td>63.16667</td><td>55.94595</td><td>54.94881</td><td>⋯</td><td>1</td><td>0</td><td>0</td><td>0</td><td>0</td><td>0</td><td>0</td><td>0</td><td>0</td><td>0</td></tr>\n",
       "\t<tr><th scope=row>2</th><td>2011.917</td><td>56.85619</td><td>55.79470</td><td>56.64452</td><td>54.00000</td><td>58.83333</td><td>59.42761</td><td>61.48649</td><td>55.20833</td><td>56.33333</td><td>⋯</td><td>1</td><td>0</td><td>0</td><td>0</td><td>0</td><td>0</td><td>0</td><td>0</td><td>0</td><td>0</td></tr>\n",
       "\t<tr><th scope=row>3</th><td>2012.000</td><td>61.20401</td><td>57.33333</td><td>58.02676</td><td>54.50000</td><td>61.66667</td><td>62.16667</td><td>64.54849</td><td>53.15789</td><td>55.33333</td><td>⋯</td><td>0</td><td>1</td><td>0</td><td>0</td><td>0</td><td>0</td><td>0</td><td>0</td><td>0</td><td>0</td></tr>\n",
       "\t<tr><th scope=row>4</th><td>2012.083</td><td>63.75405</td><td>59.51613</td><td>61.48867</td><td>57.14286</td><td>63.31169</td><td>66.77419</td><td>68.12298</td><td>52.63158</td><td>56.20915</td><td>⋯</td><td>0</td><td>1</td><td>0</td><td>0</td><td>0</td><td>0</td><td>0</td><td>0</td><td>0</td><td>0</td></tr>\n",
       "\t<tr><th scope=row>5</th><td>2012.167</td><td>64.03785</td><td>63.53503</td><td>62.53968</td><td>57.30159</td><td>64.12698</td><td>70.79365</td><td>69.04762</td><td>58.85417</td><td>61.66134</td><td>⋯</td><td>0</td><td>1</td><td>0</td><td>0</td><td>0</td><td>0</td><td>0</td><td>0</td><td>0</td><td>0</td></tr>\n",
       "\t<tr><th scope=row>6</th><td>2012.250</td><td>64.47811</td><td>64.98316</td><td>61.82432</td><td>58.92256</td><td>63.25503</td><td>73.47973</td><td>71.79054</td><td>57.54190</td><td>57.16724</td><td>⋯</td><td>0</td><td>1</td><td>0</td><td>0</td><td>0</td><td>0</td><td>0</td><td>0</td><td>0</td><td>0</td></tr>\n",
       "</tbody>\n",
       "</table>\n"
      ],
      "text/latex": [
       "A data.frame: 6 × 188\n",
       "\\begin{tabular}{r|lllllllllllllllllllll}\n",
       "  & month & demand3m & econ3m & sector3m & emp3m & firm3m & econ1yr & sector1yr & production & sales & ⋯ & y\\_11 & y\\_12 & y\\_13 & y\\_14 & y\\_15 & y\\_16 & y\\_17 & y\\_18 & y\\_19 & y\\_20\\\\\n",
       "  & <dbl> & <dbl> & <dbl> & <dbl> & <dbl> & <dbl> & <dbl> & <dbl> & <dbl> & <dbl> & ⋯ & <int> & <int> & <int> & <int> & <int> & <int> & <int> & <int> & <int> & <int>\\\\\n",
       "\\hline\n",
       "\t1 & 2011.833 & 59.53177 & 57.52508 & 57.21477 & 53.17726 & 58.86288 & 60.50000 & 63.16667 & 55.94595 & 54.94881 & ⋯ & 1 & 0 & 0 & 0 & 0 & 0 & 0 & 0 & 0 & 0\\\\\n",
       "\t2 & 2011.917 & 56.85619 & 55.79470 & 56.64452 & 54.00000 & 58.83333 & 59.42761 & 61.48649 & 55.20833 & 56.33333 & ⋯ & 1 & 0 & 0 & 0 & 0 & 0 & 0 & 0 & 0 & 0\\\\\n",
       "\t3 & 2012.000 & 61.20401 & 57.33333 & 58.02676 & 54.50000 & 61.66667 & 62.16667 & 64.54849 & 53.15789 & 55.33333 & ⋯ & 0 & 1 & 0 & 0 & 0 & 0 & 0 & 0 & 0 & 0\\\\\n",
       "\t4 & 2012.083 & 63.75405 & 59.51613 & 61.48867 & 57.14286 & 63.31169 & 66.77419 & 68.12298 & 52.63158 & 56.20915 & ⋯ & 0 & 1 & 0 & 0 & 0 & 0 & 0 & 0 & 0 & 0\\\\\n",
       "\t5 & 2012.167 & 64.03785 & 63.53503 & 62.53968 & 57.30159 & 64.12698 & 70.79365 & 69.04762 & 58.85417 & 61.66134 & ⋯ & 0 & 1 & 0 & 0 & 0 & 0 & 0 & 0 & 0 & 0\\\\\n",
       "\t6 & 2012.250 & 64.47811 & 64.98316 & 61.82432 & 58.92256 & 63.25503 & 73.47973 & 71.79054 & 57.54190 & 57.16724 & ⋯ & 0 & 1 & 0 & 0 & 0 & 0 & 0 & 0 & 0 & 0\\\\\n",
       "\\end{tabular}\n"
      ],
      "text/markdown": [
       "\n",
       "A data.frame: 6 × 188\n",
       "\n",
       "| <!--/--> | month &lt;dbl&gt; | demand3m &lt;dbl&gt; | econ3m &lt;dbl&gt; | sector3m &lt;dbl&gt; | emp3m &lt;dbl&gt; | firm3m &lt;dbl&gt; | econ1yr &lt;dbl&gt; | sector1yr &lt;dbl&gt; | production &lt;dbl&gt; | sales &lt;dbl&gt; | ⋯ ⋯ | y_11 &lt;int&gt; | y_12 &lt;int&gt; | y_13 &lt;int&gt; | y_14 &lt;int&gt; | y_15 &lt;int&gt; | y_16 &lt;int&gt; | y_17 &lt;int&gt; | y_18 &lt;int&gt; | y_19 &lt;int&gt; | y_20 &lt;int&gt; |\n",
       "|---|---|---|---|---|---|---|---|---|---|---|---|---|---|---|---|---|---|---|---|---|---|\n",
       "| 1 | 2011.833 | 59.53177 | 57.52508 | 57.21477 | 53.17726 | 58.86288 | 60.50000 | 63.16667 | 55.94595 | 54.94881 | ⋯ | 1 | 0 | 0 | 0 | 0 | 0 | 0 | 0 | 0 | 0 |\n",
       "| 2 | 2011.917 | 56.85619 | 55.79470 | 56.64452 | 54.00000 | 58.83333 | 59.42761 | 61.48649 | 55.20833 | 56.33333 | ⋯ | 1 | 0 | 0 | 0 | 0 | 0 | 0 | 0 | 0 | 0 |\n",
       "| 3 | 2012.000 | 61.20401 | 57.33333 | 58.02676 | 54.50000 | 61.66667 | 62.16667 | 64.54849 | 53.15789 | 55.33333 | ⋯ | 0 | 1 | 0 | 0 | 0 | 0 | 0 | 0 | 0 | 0 |\n",
       "| 4 | 2012.083 | 63.75405 | 59.51613 | 61.48867 | 57.14286 | 63.31169 | 66.77419 | 68.12298 | 52.63158 | 56.20915 | ⋯ | 0 | 1 | 0 | 0 | 0 | 0 | 0 | 0 | 0 | 0 |\n",
       "| 5 | 2012.167 | 64.03785 | 63.53503 | 62.53968 | 57.30159 | 64.12698 | 70.79365 | 69.04762 | 58.85417 | 61.66134 | ⋯ | 0 | 1 | 0 | 0 | 0 | 0 | 0 | 0 | 0 | 0 |\n",
       "| 6 | 2012.250 | 64.47811 | 64.98316 | 61.82432 | 58.92256 | 63.25503 | 73.47973 | 71.79054 | 57.54190 | 57.16724 | ⋯ | 0 | 1 | 0 | 0 | 0 | 0 | 0 | 0 | 0 | 0 |\n",
       "\n"
      ],
      "text/plain": [
       "  month    demand3m econ3m   sector3m emp3m    firm3m   econ1yr  sector1yr\n",
       "1 2011.833 59.53177 57.52508 57.21477 53.17726 58.86288 60.50000 63.16667 \n",
       "2 2011.917 56.85619 55.79470 56.64452 54.00000 58.83333 59.42761 61.48649 \n",
       "3 2012.000 61.20401 57.33333 58.02676 54.50000 61.66667 62.16667 64.54849 \n",
       "4 2012.083 63.75405 59.51613 61.48867 57.14286 63.31169 66.77419 68.12298 \n",
       "5 2012.167 64.03785 63.53503 62.53968 57.30159 64.12698 70.79365 69.04762 \n",
       "6 2012.250 64.47811 64.98316 61.82432 58.92256 63.25503 73.47973 71.79054 \n",
       "  production sales    ⋯ y_11 y_12 y_13 y_14 y_15 y_16 y_17 y_18 y_19 y_20\n",
       "1 55.94595   54.94881 ⋯ 1    0    0    0    0    0    0    0    0    0   \n",
       "2 55.20833   56.33333 ⋯ 1    0    0    0    0    0    0    0    0    0   \n",
       "3 53.15789   55.33333 ⋯ 0    1    0    0    0    0    0    0    0    0   \n",
       "4 52.63158   56.20915 ⋯ 0    1    0    0    0    0    0    0    0    0   \n",
       "5 58.85417   61.66134 ⋯ 0    1    0    0    0    0    0    0    0    0   \n",
       "6 57.54190   57.16724 ⋯ 0    1    0    0    0    0    0    0    0    0   "
      ]
     },
     "metadata": {},
     "output_type": "display_data"
    }
   ],
   "source": [
    "# Combine all variables\n",
    "all_data <- cbind(all_data,l4,l5,month_dummies,year_dummies)\n",
    "head(all_data)"
   ]
  },
  {
   "cell_type": "code",
   "execution_count": 21,
   "id": "338d643e-6a73-4950-a5ce-e82ebc436073",
   "metadata": {},
   "outputs": [],
   "source": [
    "# Get column numbers\n",
    "topic_var <- match(c(list_var_gammas,list_var_counts),names(all_data))\n",
    "topic_lags <- match(c(list_l_gammas,list_l_counts,list_l_sentiment),names(all_data))\n",
    "time_dummies <- which(colnames(all_data)==\"m_01\"):which(colnames(all_data)==\"y_20\")\n",
    "topic_var_lags <- match(c(list_l_var_gammas,list_l_var_counts),names(all_data))"
   ]
  },
  {
   "cell_type": "markdown",
   "id": "f635a9d6-16b9-4d75-abad-97ec23cfe132",
   "metadata": {},
   "source": [
    "## Getting data in the right shape for Lasso"
   ]
  },
  {
   "cell_type": "code",
   "execution_count": 22,
   "id": "1c9d648b-bb01-4e90-923c-410824a9ae11",
   "metadata": {},
   "outputs": [],
   "source": [
    "# Remove missings\n",
    "all_data <- all_data %>%\n",
    "    filter(complete.cases(.)) "
   ]
  },
  {
   "cell_type": "code",
   "execution_count": 23,
   "id": "c0737d41-c0da-4f05-a947-79b7548292a3",
   "metadata": {},
   "outputs": [],
   "source": [
    "# Error function\n",
    "get_error <- function(yreal,ypred){\n",
    "    error <- (mean((yreal - ypred)^2))^0.5\n",
    "    return(error)\n",
    "  }"
   ]
  },
  {
   "cell_type": "markdown",
   "id": "e94188f2-a973-4944-b61a-e0699c46cf12",
   "metadata": {},
   "source": [
    "## Lasso"
   ]
  },
  {
   "cell_type": "code",
   "execution_count": 24,
   "id": "1974292a-f738-4b43-ae39-48fb32a7935b",
   "metadata": {},
   "outputs": [],
   "source": [
    "# Parameters\n",
    "n <- nrow(all_data)\n",
    "num_outputs <- length(gdp_vars)\n",
    "window_val <- 48\n",
    "horizon_val <- 12\n",
    "max_T <- nrow(all_data) - window_val - horizon_val - num_lag"
   ]
  },
  {
   "cell_type": "code",
   "execution_count": 25,
   "id": "1f4851e4-0d54-4945-8e1c-690ac64e01e8",
   "metadata": {},
   "outputs": [],
   "source": [
    "# Caret function and parameters\n",
    "feature_formula <- paste(c(list_gammas,list_counts,list_sentiment,list_l_gammas,list_l_counts,list_l_sentiment,list_exp,list_var_gammas,list_var_counts,list_l_var_gammas,list_l_var_counts,'covid',list_other_vars), collapse = \" + \")\n",
    "myTimeControl <- trainControl(method = \"timeslice\", initialWindow = window_val, horizon = horizon_val,fixedWindow = FALSE, allowParallel = TRUE, savePredictions = \"all\")"
   ]
  },
  {
   "cell_type": "code",
   "execution_count": 26,
   "id": "f6ec67ed-9c98-49f9-992b-e76521cca037",
   "metadata": {},
   "outputs": [],
   "source": [
    "# Matrices to be filled\n",
    "rolling_window <- data.frame(rw= matrix(,nrow=n,ncol=num_outputs))\n",
    "prediction <- data.frame(pred = matrix(,nrow=n,ncol=num_outputs))\n",
    "direction_change <- data.frame(matrix(,nrow=n,ncol=num_outputs))\n",
    "error <- data.frame(matrix(,nrow=1,ncol=num_outputs))\n",
    "importance_list <- list()"
   ]
  },
  {
   "cell_type": "code",
   "execution_count": 27,
   "id": "10625e71-c512-409d-ab8f-1ef9747a1da3",
   "metadata": {},
   "outputs": [],
   "source": [
    "# Prediction\n",
    "suppressWarnings({ # Models where the prediction is close to a constant give missing R2. Details in the next chunk of code.\n",
    "    for (i in 1:num_outputs) { # For all outputs \n",
    "        glmnet_formula   <- paste(list_gdp_vars[i], feature_formula, sep = \" ~ \")\n",
    "        grid <- expand.grid(alpha = seq(0,1, length = 3), lambda = seq(0,1, length = 10))\n",
    "        for (T in max_T:2) { # Get rolling window predictions for different time horizons\n",
    "              glmnet_model <- train(as.formula(glmnet_formula),data = all_data[1:(n-T),],method = \"glmnet\",tuneGrid=grid,trControl = myTimeControl)\n",
    "              plot(glmnet_model)\n",
    "              output_temp <- as.data.frame(predict(glmnet_model,newdata=all_data))\n",
    "              rolling_window[(n-T+1),i] <- output_temp[(n-T+1),]\n",
    "              direction_change[(n-T+1),i] <- ifelse(output_temp[(n-T+1),] > output_temp[(n-T),],1,ifelse(output_temp[(n-T+1),] < output_temp[(n-T),],-1,0))\n",
    "              if (T==2) { # Input the prediction for the period of interest\n",
    "                prediction[,i] <- output_temp\n",
    "                rolling_window[n,i] <- output_temp[n,]\n",
    "                direction_change[n,i] <- ifelse(output_temp[n,] > output_temp[(n-1),],1,ifelse(output_temp[n,] < output_temp[(n-1),],-1,0))\n",
    "                importance_list[[i]] <- varImp(glmnet_model,scale=T)\n",
    "              }\n",
    "        }\n",
    "    }\n",
    "})"
   ]
  },
  {
   "cell_type": "code",
   "execution_count": 28,
   "id": "06f35138-3d8b-434f-b2e6-655e7432ae73",
   "metadata": {},
   "outputs": [],
   "source": [
    "# The model gives warning when R square is missing (predictions are the same, have zero variance because the model is predicting a value close to a constant). \n",
    "# Source: https://stackoverflow.com/questions/51548255/caret-there-were-missing-values-in-resampled-performance-measures\n",
    "# Tends to happen when alpha==1 & lambda==1. These models aren't selected. For further exploration, run the code below:\n",
    "# glmnet_model$results\n",
    "# glmnet_model$pred %>%\n",
    "#   filter(alpha==1 & lambda == 1) -> for_r2\n",
    "# var(for_r2$pred)\n",
    "# unique(for_r2$pred)\n",
    "# caret::R2(for_r2$obs, for_r2$pred)"
   ]
  },
  {
   "cell_type": "code",
   "execution_count": 29,
   "id": "ff2ad388-59fb-4ed8-93f3-f39c1908eff9",
   "metadata": {},
   "outputs": [
    {
     "data": {
      "text/html": [
       "<table class=\"dataframe\">\n",
       "<caption>A data.frame: 1 × 19</caption>\n",
       "<thead>\n",
       "\t<tr><th scope=col>X1</th><th scope=col>X2</th><th scope=col>X3</th><th scope=col>X4</th><th scope=col>X5</th><th scope=col>X6</th><th scope=col>X7</th><th scope=col>X8</th><th scope=col>X9</th><th scope=col>X10</th><th scope=col>X11</th><th scope=col>X12</th><th scope=col>X13</th><th scope=col>X14</th><th scope=col>X15</th><th scope=col>X16</th><th scope=col>X17</th><th scope=col>X18</th><th scope=col>X19</th></tr>\n",
       "\t<tr><th scope=col>&lt;dbl&gt;</th><th scope=col>&lt;dbl&gt;</th><th scope=col>&lt;dbl&gt;</th><th scope=col>&lt;dbl&gt;</th><th scope=col>&lt;dbl&gt;</th><th scope=col>&lt;dbl&gt;</th><th scope=col>&lt;dbl&gt;</th><th scope=col>&lt;dbl&gt;</th><th scope=col>&lt;dbl&gt;</th><th scope=col>&lt;dbl&gt;</th><th scope=col>&lt;dbl&gt;</th><th scope=col>&lt;dbl&gt;</th><th scope=col>&lt;dbl&gt;</th><th scope=col>&lt;dbl&gt;</th><th scope=col>&lt;dbl&gt;</th><th scope=col>&lt;dbl&gt;</th><th scope=col>&lt;dbl&gt;</th><th scope=col>&lt;dbl&gt;</th><th scope=col>&lt;dbl&gt;</th></tr>\n",
       "</thead>\n",
       "<tbody>\n",
       "\t<tr><td>6.498884</td><td>6.818794</td><td>7.424312</td><td>128.8535</td><td>207.2914</td><td>1160.046</td><td>477.0725</td><td>1.589839</td><td>276.762</td><td>13.76777</td><td>7.334962</td><td>14.43189</td><td>23.97446</td><td>113.2871</td><td>11.12626</td><td>14.42026</td><td>0.4072622</td><td>7.996825</td><td>6.466991</td></tr>\n",
       "</tbody>\n",
       "</table>\n"
      ],
      "text/latex": [
       "A data.frame: 1 × 19\n",
       "\\begin{tabular}{lllllllllllllllllll}\n",
       " X1 & X2 & X3 & X4 & X5 & X6 & X7 & X8 & X9 & X10 & X11 & X12 & X13 & X14 & X15 & X16 & X17 & X18 & X19\\\\\n",
       " <dbl> & <dbl> & <dbl> & <dbl> & <dbl> & <dbl> & <dbl> & <dbl> & <dbl> & <dbl> & <dbl> & <dbl> & <dbl> & <dbl> & <dbl> & <dbl> & <dbl> & <dbl> & <dbl>\\\\\n",
       "\\hline\n",
       "\t 6.498884 & 6.818794 & 7.424312 & 128.8535 & 207.2914 & 1160.046 & 477.0725 & 1.589839 & 276.762 & 13.76777 & 7.334962 & 14.43189 & 23.97446 & 113.2871 & 11.12626 & 14.42026 & 0.4072622 & 7.996825 & 6.466991\\\\\n",
       "\\end{tabular}\n"
      ],
      "text/markdown": [
       "\n",
       "A data.frame: 1 × 19\n",
       "\n",
       "| X1 &lt;dbl&gt; | X2 &lt;dbl&gt; | X3 &lt;dbl&gt; | X4 &lt;dbl&gt; | X5 &lt;dbl&gt; | X6 &lt;dbl&gt; | X7 &lt;dbl&gt; | X8 &lt;dbl&gt; | X9 &lt;dbl&gt; | X10 &lt;dbl&gt; | X11 &lt;dbl&gt; | X12 &lt;dbl&gt; | X13 &lt;dbl&gt; | X14 &lt;dbl&gt; | X15 &lt;dbl&gt; | X16 &lt;dbl&gt; | X17 &lt;dbl&gt; | X18 &lt;dbl&gt; | X19 &lt;dbl&gt; |\n",
       "|---|---|---|---|---|---|---|---|---|---|---|---|---|---|---|---|---|---|---|\n",
       "| 6.498884 | 6.818794 | 7.424312 | 128.8535 | 207.2914 | 1160.046 | 477.0725 | 1.589839 | 276.762 | 13.76777 | 7.334962 | 14.43189 | 23.97446 | 113.2871 | 11.12626 | 14.42026 | 0.4072622 | 7.996825 | 6.466991 |\n",
       "\n"
      ],
      "text/plain": [
       "  X1       X2       X3       X4       X5       X6       X7       X8      \n",
       "1 6.498884 6.818794 7.424312 128.8535 207.2914 1160.046 477.0725 1.589839\n",
       "  X9      X10      X11      X12      X13      X14      X15      X16     \n",
       "1 276.762 13.76777 7.334962 14.43189 23.97446 113.2871 11.12626 14.42026\n",
       "  X17       X18      X19     \n",
       "1 0.4072622 7.996825 6.466991"
      ]
     },
     "metadata": {},
     "output_type": "display_data"
    }
   ],
   "source": [
    "# RMSE (rolling window prediction vs. true values)\n",
    "for (i in 1:num_outputs) {\n",
    "  error[,i] <- get_error(rolling_window[(n-max_T+1):n,i],all_data[(n-max_T+1):n,gdp_vars[i]])\n",
    "}\n",
    "error"
   ]
  },
  {
   "cell_type": "code",
   "execution_count": 30,
   "id": "8b1db4d1-3dbb-4f41-8443-4da2df9932fc",
   "metadata": {},
   "outputs": [
    {
     "data": {
      "text/html": [
       "<table class=\"dataframe\">\n",
       "<caption>A data.frame: 1 × 19</caption>\n",
       "<thead>\n",
       "\t<tr><th scope=col>X1</th><th scope=col>X2</th><th scope=col>X3</th><th scope=col>X4</th><th scope=col>X5</th><th scope=col>X6</th><th scope=col>X7</th><th scope=col>X8</th><th scope=col>X9</th><th scope=col>X10</th><th scope=col>X11</th><th scope=col>X12</th><th scope=col>X13</th><th scope=col>X14</th><th scope=col>X15</th><th scope=col>X16</th><th scope=col>X17</th><th scope=col>X18</th><th scope=col>X19</th></tr>\n",
       "\t<tr><th scope=col>&lt;dbl&gt;</th><th scope=col>&lt;dbl&gt;</th><th scope=col>&lt;dbl&gt;</th><th scope=col>&lt;dbl&gt;</th><th scope=col>&lt;dbl&gt;</th><th scope=col>&lt;dbl&gt;</th><th scope=col>&lt;dbl&gt;</th><th scope=col>&lt;dbl&gt;</th><th scope=col>&lt;dbl&gt;</th><th scope=col>&lt;dbl&gt;</th><th scope=col>&lt;dbl&gt;</th><th scope=col>&lt;dbl&gt;</th><th scope=col>&lt;dbl&gt;</th><th scope=col>&lt;dbl&gt;</th><th scope=col>&lt;dbl&gt;</th><th scope=col>&lt;dbl&gt;</th><th scope=col>&lt;dbl&gt;</th><th scope=col>&lt;dbl&gt;</th><th scope=col>&lt;dbl&gt;</th></tr>\n",
       "</thead>\n",
       "<tbody>\n",
       "\t<tr><td>0.8947368</td><td>0.7894737</td><td>0.6842105</td><td>0.6842105</td><td>0.6842105</td><td>0.7368421</td><td>0.8421053</td><td>0.9473684</td><td>0.6315789</td><td>0.6315789</td><td>0.4210526</td><td>0.4736842</td><td>0.2105263</td><td>0.4210526</td><td>0.4210526</td><td>0.8421053</td><td>0.4210526</td><td>0.5263158</td><td>0.3157895</td></tr>\n",
       "</tbody>\n",
       "</table>\n"
      ],
      "text/latex": [
       "A data.frame: 1 × 19\n",
       "\\begin{tabular}{lllllllllllllllllll}\n",
       " X1 & X2 & X3 & X4 & X5 & X6 & X7 & X8 & X9 & X10 & X11 & X12 & X13 & X14 & X15 & X16 & X17 & X18 & X19\\\\\n",
       " <dbl> & <dbl> & <dbl> & <dbl> & <dbl> & <dbl> & <dbl> & <dbl> & <dbl> & <dbl> & <dbl> & <dbl> & <dbl> & <dbl> & <dbl> & <dbl> & <dbl> & <dbl> & <dbl>\\\\\n",
       "\\hline\n",
       "\t 0.8947368 & 0.7894737 & 0.6842105 & 0.6842105 & 0.6842105 & 0.7368421 & 0.8421053 & 0.9473684 & 0.6315789 & 0.6315789 & 0.4210526 & 0.4736842 & 0.2105263 & 0.4210526 & 0.4210526 & 0.8421053 & 0.4210526 & 0.5263158 & 0.3157895\\\\\n",
       "\\end{tabular}\n"
      ],
      "text/markdown": [
       "\n",
       "A data.frame: 1 × 19\n",
       "\n",
       "| X1 &lt;dbl&gt; | X2 &lt;dbl&gt; | X3 &lt;dbl&gt; | X4 &lt;dbl&gt; | X5 &lt;dbl&gt; | X6 &lt;dbl&gt; | X7 &lt;dbl&gt; | X8 &lt;dbl&gt; | X9 &lt;dbl&gt; | X10 &lt;dbl&gt; | X11 &lt;dbl&gt; | X12 &lt;dbl&gt; | X13 &lt;dbl&gt; | X14 &lt;dbl&gt; | X15 &lt;dbl&gt; | X16 &lt;dbl&gt; | X17 &lt;dbl&gt; | X18 &lt;dbl&gt; | X19 &lt;dbl&gt; |\n",
       "|---|---|---|---|---|---|---|---|---|---|---|---|---|---|---|---|---|---|---|\n",
       "| 0.8947368 | 0.7894737 | 0.6842105 | 0.6842105 | 0.6842105 | 0.7368421 | 0.8421053 | 0.9473684 | 0.6315789 | 0.6315789 | 0.4210526 | 0.4736842 | 0.2105263 | 0.4210526 | 0.4210526 | 0.8421053 | 0.4210526 | 0.5263158 | 0.3157895 |\n",
       "\n"
      ],
      "text/plain": [
       "  X1        X2        X3        X4        X5        X6        X7       \n",
       "1 0.8947368 0.7894737 0.6842105 0.6842105 0.6842105 0.7368421 0.8421053\n",
       "  X8        X9        X10       X11       X12       X13       X14      \n",
       "1 0.9473684 0.6315789 0.6315789 0.4210526 0.4736842 0.2105263 0.4210526\n",
       "  X15       X16       X17       X18       X19      \n",
       "1 0.4210526 0.8421053 0.4210526 0.5263158 0.3157895"
      ]
     },
     "metadata": {},
     "output_type": "display_data"
    }
   ],
   "source": [
    "# We want to know if the model is good at predicting the direction of change (ie, whether the growth rate next month is higher or lower than the previous month). \n",
    "## Get direction of change in real data\n",
    "direction_change_true <- data.frame(matrix(,nrow=n,ncol=num_outputs))\n",
    "for (i in 1:num_outputs) {\n",
    "  direction_change_true[,i] <- ifelse(all_data[,gdp_vars[i]] > lag(all_data[,gdp_vars[i]]),1,ifelse(all_data[,gdp_vars[i]] < lag(all_data[,gdp_vars[i]]),-1,0))\n",
    "}\n",
    "## Compare \n",
    "match <- data.frame(matrix(,nrow=1,ncol=num_outputs))\n",
    "for (i in 1:num_outputs) {\n",
    "    match[,i] <- mean(direction_change_true[,i] == direction_change[,i],na.rm=TRUE)\n",
    "}\n",
    "match"
   ]
  },
  {
   "cell_type": "markdown",
   "id": "cba9b485-b3f2-49dc-aa25-8092ffbc2464",
   "metadata": {},
   "source": [
    "## Plots"
   ]
  },
  {
   "cell_type": "code",
   "execution_count": 31,
   "id": "594cfd89-5f2f-47b5-99bc-c16d786d3a60",
   "metadata": {},
   "outputs": [],
   "source": [
    "# Get time series ready (predictions + outputs)\n",
    "data_for_plots <- all_data %>%\n",
    "    cbind(prediction,rolling_window) %>%\n",
    "    filter(complete.cases(.))\n",
    "prediction_series <- which(colnames(data_for_plots)==\"pred.1\"):which(colnames(data_for_plots)==\"pred.19\")\n",
    "rw_series <- which(colnames(data_for_plots)==\"rw.1\"):which(colnames(data_for_plots)==\"rw.19\")"
   ]
  },
  {
   "cell_type": "code",
   "execution_count": 32,
   "id": "34fdb0c7-f0ce-494b-b2d2-837f3e3a37b6",
   "metadata": {},
   "outputs": [],
   "source": [
    "# Label GDP variables, prediction series, and rolling window forecasts\n",
    "gdp_vars_label <- paste(\"  \",paste(capitalize(gsub(\"_\", \" \", list_gdp_vars,fixed = TRUE)),\"(Var. %)\",sep=\" \"),sep=\"\")\n",
    "prediction_vars_label <- paste(\" \",\"Series prediction\",sep=\"\")\n",
    "rw_vars_label <- paste(\"\",\"RW prediction\",sep=\"\")"
   ]
  },
  {
   "cell_type": "code",
   "execution_count": 33,
   "id": "189e0e04-7634-434a-b5e4-08941e30a06a",
   "metadata": {},
   "outputs": [
    {
     "data": {
      "text/html": [
       "<strong>pdf:</strong> 2"
      ],
      "text/latex": [
       "\\textbf{pdf:} 2"
      ],
      "text/markdown": [
       "**pdf:** 2"
      ],
      "text/plain": [
       "pdf \n",
       "  2 "
      ]
     },
     "metadata": {},
     "output_type": "display_data"
    }
   ],
   "source": [
    "# Storing plots\n",
    "plot_list = list() \n",
    "fname <-paste(\"../tables_plots/plots.pdf\")\n",
    "pdf(fname)\n",
    "#Plot\n",
    "for (i in 1:num_outputs) { \n",
    "    # Correlation label\n",
    "    correl = paste(\"Cor.: \", round(cor(data_for_plots[,gdp_vars[i]],data_for_plots[,prediction_series[i]]),2) ,sep=\"\")\n",
    "    # RMSE label\n",
    "    rmse_rw = paste(\"RMSE (RW): \", round(error[i],2),sep=\"\")\n",
    "    # Match label\n",
    "    match_rw = paste(\"Match (RW): \",round(match[i],2),sep=\"\")\n",
    "    # Final label\n",
    "    title_label= paste(paste(paste(correl,match_rw,sep=\",\"),rmse_rw,sep=\",\"))\n",
    "    # Plot\n",
    "    p <- ggplot() + \n",
    "    theme_light() +\n",
    "    geom_line(data=data_for_plots,aes(x=month,y = data_for_plots[,gdp_vars[i]],color=gdp_vars_label[i])) +\n",
    "    geom_line(data=data_for_plots,aes(x=month,y = data_for_plots[,prediction_series[i]],colour=prediction_vars_label)) +\n",
    "    geom_point(data=data_for_plots,aes(x=month,y = data_for_plots[,rw_series[i]],colour=rw_vars_label)) +\n",
    "    scale_colour_manual(values = c(\"DarkBlue\",\"Red\",\"DarkOrange\")) +\n",
    "    labs(y = \"Var%\", x = \"Month\", colour = title_label) +\n",
    "    theme(legend.position = c(0.25, 0.16)) +\n",
    "    theme(legend.key.size = unit(0.5, \"cm\"),legend.title = element_text(size=9)) +\n",
    "    theme(legend.background=element_blank()) \n",
    "    plot_list[[i]] = p\n",
    "    print(plot_list[[i]])\n",
    "}\n",
    "dev.off()"
   ]
  },
  {
   "cell_type": "code",
   "execution_count": 34,
   "id": "b90b6b61-8b24-44c2-b6cb-c410b6dc8fcb",
   "metadata": {},
   "outputs": [
    {
     "data": {
      "text/html": [
       "<strong>pdf:</strong> 2"
      ],
      "text/latex": [
       "\\textbf{pdf:} 2"
      ],
      "text/markdown": [
       "**pdf:** 2"
      ],
      "text/plain": [
       "pdf \n",
       "  2 "
      ]
     },
     "metadata": {},
     "output_type": "display_data"
    },
    {
     "data": {
      "image/png": "[encoded data removed]",
      "text/plain": [
       "plot without title"
      ]
     },
     "metadata": {
      "image/png": {
       "height": 420,
       "width": 420
      }
     },
     "output_type": "display_data"
    }
   ],
   "source": [
    "# Storing variable importance plots\n",
    "plot_list = list() \n",
    "fname <-paste(\"../tables_plots/var_imp.pdf\")\n",
    "pdf(fname)\n",
    "#Plot\n",
    "for (i in 1:num_outputs) { \n",
    "    print(plot(importance_list[[i]],top=35))\n",
    "}\n",
    "dev.off()\n",
    "plot(importance_list[[1]],top=35)"
   ]
  },
  {
   "cell_type": "code",
   "execution_count": 35,
   "id": "4df76300-0aeb-4d99-a6c6-6e65c6cc08f9",
   "metadata": {},
   "outputs": [
    {
     "data": {
      "text/html": [
       "<table class=\"dataframe\">\n",
       "<caption>A data.frame: 4 × 19</caption>\n",
       "<thead>\n",
       "\t<tr><th></th><th scope=col>gdp</th><th scope=col>gdp_nprim</th><th scope=col>gdp_nprim_wo_manuf</th><th scope=col>gdp_prim</th><th scope=col>mining</th><th scope=col>manufacturing</th><th scope=col>manufacturing_nprim</th><th scope=col>electricity</th><th scope=col>construction</th><th scope=col>commerce</th><th scope=col>services</th><th scope=col>transport</th><th scope=col>restaurants</th><th scope=col>telecom</th><th scope=col>finserv</th><th scope=col>firmserv</th><th scope=col>publicadm</th><th scope=col>otherserv</th><th scope=col>totalserv</th></tr>\n",
       "\t<tr><th></th><th scope=col>&lt;dbl&gt;</th><th scope=col>&lt;dbl&gt;</th><th scope=col>&lt;dbl&gt;</th><th scope=col>&lt;dbl&gt;</th><th scope=col>&lt;dbl&gt;</th><th scope=col>&lt;dbl&gt;</th><th scope=col>&lt;dbl&gt;</th><th scope=col>&lt;dbl&gt;</th><th scope=col>&lt;dbl&gt;</th><th scope=col>&lt;dbl&gt;</th><th scope=col>&lt;dbl&gt;</th><th scope=col>&lt;dbl&gt;</th><th scope=col>&lt;dbl&gt;</th><th scope=col>&lt;dbl&gt;</th><th scope=col>&lt;dbl&gt;</th><th scope=col>&lt;dbl&gt;</th><th scope=col>&lt;dbl&gt;</th><th scope=col>&lt;dbl&gt;</th><th scope=col>&lt;dbl&gt;</th></tr>\n",
       "</thead>\n",
       "<tbody>\n",
       "\t<tr><th scope=row>RMSE</th><td> 6.4988840</td><td>  6.8187936</td><td>  7.4243124</td><td>128.8534682</td><td>207.2913606</td><td>1160.0461863</td><td>477.0725111</td><td> 1.5898391</td><td>276.7619755</td><td> 13.7677660</td><td> 7.3349619</td><td> 14.4318892</td><td> 23.9744575</td><td>113.2871303</td><td>11.1262556</td><td> 14.4202607</td><td>0.4072622</td><td> 7.9968254</td><td>  6.4669908</td></tr>\n",
       "\t<tr><th scope=row>Match</th><td> 0.8947368</td><td>  0.7894737</td><td>  0.6842105</td><td>  0.6842105</td><td>  0.6842105</td><td>   0.7368421</td><td>  0.8421053</td><td> 0.9473684</td><td>  0.6315789</td><td>  0.6315789</td><td> 0.4210526</td><td>  0.4736842</td><td>  0.2105263</td><td>  0.4210526</td><td> 0.4210526</td><td>  0.8421053</td><td>0.4210526</td><td> 0.5263158</td><td>  0.3157895</td></tr>\n",
       "\t<tr><th scope=row>August prediction</th><td>-8.9779005</td><td>-13.0250825</td><td>-13.6591134</td><td> -5.9727509</td><td>-10.0008849</td><td> -14.6934265</td><td>-12.2311891</td><td>-4.7842269</td><td>-24.7206327</td><td>-17.1609782</td><td>-9.7057895</td><td>-24.0924983</td><td>-41.6958179</td><td>  5.5263431</td><td> 6.9139977</td><td>-18.1361588</td><td>4.3731179</td><td>-8.9816969</td><td>-11.0067446</td></tr>\n",
       "\t<tr><th scope=row>September prediction</th><td>-6.5328759</td><td>-10.9502713</td><td>-12.3297408</td><td> -3.5410206</td><td> -7.0075313</td><td> -12.1210930</td><td> -9.2114652</td><td>-2.1214094</td><td>-18.9622415</td><td>-15.6946953</td><td>-7.4664317</td><td>-19.9407839</td><td>-37.5038570</td><td>  5.7070007</td><td> 7.5170498</td><td>-13.6905908</td><td>4.4554179</td><td>-7.6339274</td><td> -9.0815766</td></tr>\n",
       "</tbody>\n",
       "</table>\n"
      ],
      "text/latex": [
       "A data.frame: 4 × 19\n",
       "\\begin{tabular}{r|lllllllllllllllllll}\n",
       "  & gdp & gdp\\_nprim & gdp\\_nprim\\_wo\\_manuf & gdp\\_prim & mining & manufacturing & manufacturing\\_nprim & electricity & construction & commerce & services & transport & restaurants & telecom & finserv & firmserv & publicadm & otherserv & totalserv\\\\\n",
       "  & <dbl> & <dbl> & <dbl> & <dbl> & <dbl> & <dbl> & <dbl> & <dbl> & <dbl> & <dbl> & <dbl> & <dbl> & <dbl> & <dbl> & <dbl> & <dbl> & <dbl> & <dbl> & <dbl>\\\\\n",
       "\\hline\n",
       "\tRMSE &  6.4988840 &   6.8187936 &   7.4243124 & 128.8534682 & 207.2913606 & 1160.0461863 & 477.0725111 &  1.5898391 & 276.7619755 &  13.7677660 &  7.3349619 &  14.4318892 &  23.9744575 & 113.2871303 & 11.1262556 &  14.4202607 & 0.4072622 &  7.9968254 &   6.4669908\\\\\n",
       "\tMatch &  0.8947368 &   0.7894737 &   0.6842105 &   0.6842105 &   0.6842105 &    0.7368421 &   0.8421053 &  0.9473684 &   0.6315789 &   0.6315789 &  0.4210526 &   0.4736842 &   0.2105263 &   0.4210526 &  0.4210526 &   0.8421053 & 0.4210526 &  0.5263158 &   0.3157895\\\\\n",
       "\tAugust prediction & -8.9779005 & -13.0250825 & -13.6591134 &  -5.9727509 & -10.0008849 &  -14.6934265 & -12.2311891 & -4.7842269 & -24.7206327 & -17.1609782 & -9.7057895 & -24.0924983 & -41.6958179 &   5.5263431 &  6.9139977 & -18.1361588 & 4.3731179 & -8.9816969 & -11.0067446\\\\\n",
       "\tSeptember prediction & -6.5328759 & -10.9502713 & -12.3297408 &  -3.5410206 &  -7.0075313 &  -12.1210930 &  -9.2114652 & -2.1214094 & -18.9622415 & -15.6946953 & -7.4664317 & -19.9407839 & -37.5038570 &   5.7070007 &  7.5170498 & -13.6905908 & 4.4554179 & -7.6339274 &  -9.0815766\\\\\n",
       "\\end{tabular}\n"
      ],
      "text/markdown": [
       "\n",
       "A data.frame: 4 × 19\n",
       "\n",
       "| <!--/--> | gdp &lt;dbl&gt; | gdp_nprim &lt;dbl&gt; | gdp_nprim_wo_manuf &lt;dbl&gt; | gdp_prim &lt;dbl&gt; | mining &lt;dbl&gt; | manufacturing &lt;dbl&gt; | manufacturing_nprim &lt;dbl&gt; | electricity &lt;dbl&gt; | construction &lt;dbl&gt; | commerce &lt;dbl&gt; | services &lt;dbl&gt; | transport &lt;dbl&gt; | restaurants &lt;dbl&gt; | telecom &lt;dbl&gt; | finserv &lt;dbl&gt; | firmserv &lt;dbl&gt; | publicadm &lt;dbl&gt; | otherserv &lt;dbl&gt; | totalserv &lt;dbl&gt; |\n",
       "|---|---|---|---|---|---|---|---|---|---|---|---|---|---|---|---|---|---|---|---|\n",
       "| RMSE |  6.4988840 |   6.8187936 |   7.4243124 | 128.8534682 | 207.2913606 | 1160.0461863 | 477.0725111 |  1.5898391 | 276.7619755 |  13.7677660 |  7.3349619 |  14.4318892 |  23.9744575 | 113.2871303 | 11.1262556 |  14.4202607 | 0.4072622 |  7.9968254 |   6.4669908 |\n",
       "| Match |  0.8947368 |   0.7894737 |   0.6842105 |   0.6842105 |   0.6842105 |    0.7368421 |   0.8421053 |  0.9473684 |   0.6315789 |   0.6315789 |  0.4210526 |   0.4736842 |   0.2105263 |   0.4210526 |  0.4210526 |   0.8421053 | 0.4210526 |  0.5263158 |   0.3157895 |\n",
       "| August prediction | -8.9779005 | -13.0250825 | -13.6591134 |  -5.9727509 | -10.0008849 |  -14.6934265 | -12.2311891 | -4.7842269 | -24.7206327 | -17.1609782 | -9.7057895 | -24.0924983 | -41.6958179 |   5.5263431 |  6.9139977 | -18.1361588 | 4.3731179 | -8.9816969 | -11.0067446 |\n",
       "| September prediction | -6.5328759 | -10.9502713 | -12.3297408 |  -3.5410206 |  -7.0075313 |  -12.1210930 |  -9.2114652 | -2.1214094 | -18.9622415 | -15.6946953 | -7.4664317 | -19.9407839 | -37.5038570 |   5.7070007 |  7.5170498 | -13.6905908 | 4.4554179 | -7.6339274 |  -9.0815766 |\n",
       "\n"
      ],
      "text/plain": [
       "                     gdp        gdp_nprim   gdp_nprim_wo_manuf gdp_prim   \n",
       "RMSE                  6.4988840   6.8187936   7.4243124        128.8534682\n",
       "Match                 0.8947368   0.7894737   0.6842105          0.6842105\n",
       "August prediction    -8.9779005 -13.0250825 -13.6591134         -5.9727509\n",
       "September prediction -6.5328759 -10.9502713 -12.3297408         -3.5410206\n",
       "                     mining      manufacturing manufacturing_nprim electricity\n",
       "RMSE                 207.2913606 1160.0461863  477.0725111          1.5898391 \n",
       "Match                  0.6842105    0.7368421    0.8421053          0.9473684 \n",
       "August prediction    -10.0008849  -14.6934265  -12.2311891         -4.7842269 \n",
       "September prediction  -7.0075313  -12.1210930   -9.2114652         -2.1214094 \n",
       "                     construction commerce    services   transport  \n",
       "RMSE                 276.7619755   13.7677660  7.3349619  14.4318892\n",
       "Match                  0.6315789    0.6315789  0.4210526   0.4736842\n",
       "August prediction    -24.7206327  -17.1609782 -9.7057895 -24.0924983\n",
       "September prediction -18.9622415  -15.6946953 -7.4664317 -19.9407839\n",
       "                     restaurants telecom     finserv    firmserv    publicadm\n",
       "RMSE                  23.9744575 113.2871303 11.1262556  14.4202607 0.4072622\n",
       "Match                  0.2105263   0.4210526  0.4210526   0.8421053 0.4210526\n",
       "August prediction    -41.6958179   5.5263431  6.9139977 -18.1361588 4.3731179\n",
       "September prediction -37.5038570   5.7070007  7.5170498 -13.6905908 4.4554179\n",
       "                     otherserv  totalserv  \n",
       "RMSE                  7.9968254   6.4669908\n",
       "Match                 0.5263158   0.3157895\n",
       "August prediction    -8.9816969 -11.0067446\n",
       "September prediction -7.6339274  -9.0815766"
      ]
     },
     "metadata": {},
     "output_type": "display_data"
    }
   ],
   "source": [
    "# Export\n",
    "results <- rbind(error,match)\n",
    "colnames(results) <- list_gdp_vars\n",
    "predictions <- rolling_window[c(n-1,n),]\n",
    "colnames(predictions) <- list_gdp_vars\n",
    "results <- rbind(results,predictions)\n",
    "rownames(results) <- c(\"RMSE\",\"Match\",\"August prediction\",\"September prediction\")\n",
    "write.csv(results,\"../tables_plots/results.csv\")\n",
    "results"
   ]
  }
 ],
 "metadata": {
  "kernelspec": {
   "display_name": "R",
   "language": "R",
   "name": "ir"
  },
  "language_info": {
   "codemirror_mode": "r",
   "file_extension": ".r",
   "mimetype": "text/x-r-source",
   "name": "R",
   "pygments_lexer": "r",
   "version": "4.2.1"
  }
 },
 "nbformat": 4,
 "nbformat_minor": 5
}
